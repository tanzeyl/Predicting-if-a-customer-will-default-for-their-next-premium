{
  "nbformat": 4,
  "nbformat_minor": 0,
  "metadata": {
    "colab": {
      "name": "Main File.ipynb",
      "provenance": [],
      "collapsed_sections": [],
      "include_colab_link": true
    },
    "kernelspec": {
      "display_name": "Python 3",
      "language": "python",
      "name": "python3"
    },
    "language_info": {
      "codemirror_mode": {
        "name": "ipython",
        "version": 3
      },
      "file_extension": ".py",
      "mimetype": "text/x-python",
      "name": "python",
      "nbconvert_exporter": "python",
      "pygments_lexer": "ipython3",
      "version": "3.9.2"
    }
  },
  "cells": [
    {
      "cell_type": "markdown",
      "metadata": {
        "id": "view-in-github",
        "colab_type": "text"
      },
      "source": [
        "<a href=\"https://colab.research.google.com/github/tanzeyl/Predicting-if-a-customer-will-default-for-their-next-premium/blob/main/Main_File.ipynb\" target=\"_parent\"><img src=\"https://colab.research.google.com/assets/colab-badge.svg\" alt=\"Open In Colab\"/></a>"
      ]
    },
    {
      "cell_type": "markdown",
      "metadata": {
        "id": "tFEDAw9c6wLZ"
      },
      "source": [
        "# Step 1: Problem Statement: To predict if a customer will pay their premium on time or not."
      ]
    },
    {
      "cell_type": "code",
      "metadata": {
        "id": "5nxYhVAVKjC3",
        "colab": {
          "base_uri": "https://localhost:8080/"
        },
        "outputId": "50a417d2-3e67-492e-d21a-097176705f70"
      },
      "source": [
        "from google.colab import drive\n",
        "drive.mount('/content/drive')"
      ],
      "execution_count": 1,
      "outputs": [
        {
          "output_type": "stream",
          "text": [
            "Mounted at /content/drive\n"
          ],
          "name": "stdout"
        }
      ]
    },
    {
      "cell_type": "markdown",
      "metadata": {
        "id": "Y6kPRF9Y6wLr"
      },
      "source": [
        "## Step 2: Hypothesis Generation:\n",
        "Following can be the factors that can be used to predict if a customer will pay their premium on time:\n",
        "1. Whether previous premium is payed.\n",
        "2. Time of previous payment\n",
        "3. Type of job\n",
        "4. Area of residence\n",
        "\n",
        "## Step 3: Data Extraction:\n",
        "Files have been provided beforehand.\n",
        "\n",
        "## Step 4: Data Exploration:\n",
        "Given below:"
      ]
    },
    {
      "cell_type": "code",
      "metadata": {
        "id": "JtYXgjG76wLt"
      },
      "source": [
        "#Importing important modules\n",
        "import pandas as pd\n",
        "import matplotlib.pyplot as plt\n",
        "%matplotlib inline\n",
        "import numpy as np\n",
        "from sklearn.linear_model import LinearRegression\n",
        "from scipy.stats import ttest_ind\n",
        "from sklearn.model_selection import train_test_split\n",
        "from sklearn.preprocessing import StandardScaler\n",
        "scaler=StandardScaler()\n",
        "from sklearn.neighbors import KNeighborsClassifier\n",
        "from sklearn import metrics\n",
        "from sklearn.linear_model import LogisticRegression"
      ],
      "execution_count": 2,
      "outputs": []
    },
    {
      "cell_type": "code",
      "metadata": {
        "id": "q5HkOOc86wLu"
      },
      "source": [
        "#Reading the data\n",
        "data = pd.read_csv(\"/content/drive/MyDrive/Colab Notebooks/Predicting-if-a-customer-will-default-for-their-next-premium/train.csv\")"
      ],
      "execution_count": 3,
      "outputs": []
    },
    {
      "cell_type": "code",
      "metadata": {
        "id": "7GB_9I5S6wLv",
        "colab": {
          "base_uri": "https://localhost:8080/",
          "height": 241
        },
        "outputId": "2d719e22-32e9-4d0e-b41b-d573a68397de"
      },
      "source": [
        "#Displaying first five rows\n",
        "data.head()"
      ],
      "execution_count": 4,
      "outputs": [
        {
          "output_type": "execute_result",
          "data": {
            "text/html": [
              "<div>\n",
              "<style scoped>\n",
              "    .dataframe tbody tr th:only-of-type {\n",
              "        vertical-align: middle;\n",
              "    }\n",
              "\n",
              "    .dataframe tbody tr th {\n",
              "        vertical-align: top;\n",
              "    }\n",
              "\n",
              "    .dataframe thead th {\n",
              "        text-align: right;\n",
              "    }\n",
              "</style>\n",
              "<table border=\"1\" class=\"dataframe\">\n",
              "  <thead>\n",
              "    <tr style=\"text-align: right;\">\n",
              "      <th></th>\n",
              "      <th>id</th>\n",
              "      <th>perc_premium_paid_by_cash_credit</th>\n",
              "      <th>age_in_days</th>\n",
              "      <th>Income</th>\n",
              "      <th>Count_3-6_months_late</th>\n",
              "      <th>Count_6-12_months_late</th>\n",
              "      <th>Count_more_than_12_months_late</th>\n",
              "      <th>application_underwriting_score</th>\n",
              "      <th>no_of_premiums_paid</th>\n",
              "      <th>sourcing_channel</th>\n",
              "      <th>residence_area_type</th>\n",
              "      <th>target</th>\n",
              "    </tr>\n",
              "  </thead>\n",
              "  <tbody>\n",
              "    <tr>\n",
              "      <th>0</th>\n",
              "      <td>110936</td>\n",
              "      <td>0.429</td>\n",
              "      <td>12058</td>\n",
              "      <td>355060</td>\n",
              "      <td>0.0</td>\n",
              "      <td>0.0</td>\n",
              "      <td>0.0</td>\n",
              "      <td>99.02</td>\n",
              "      <td>13</td>\n",
              "      <td>C</td>\n",
              "      <td>Urban</td>\n",
              "      <td>1</td>\n",
              "    </tr>\n",
              "    <tr>\n",
              "      <th>1</th>\n",
              "      <td>41492</td>\n",
              "      <td>0.010</td>\n",
              "      <td>21546</td>\n",
              "      <td>315150</td>\n",
              "      <td>0.0</td>\n",
              "      <td>0.0</td>\n",
              "      <td>0.0</td>\n",
              "      <td>99.89</td>\n",
              "      <td>21</td>\n",
              "      <td>A</td>\n",
              "      <td>Urban</td>\n",
              "      <td>1</td>\n",
              "    </tr>\n",
              "    <tr>\n",
              "      <th>2</th>\n",
              "      <td>31300</td>\n",
              "      <td>0.917</td>\n",
              "      <td>17531</td>\n",
              "      <td>84140</td>\n",
              "      <td>2.0</td>\n",
              "      <td>3.0</td>\n",
              "      <td>1.0</td>\n",
              "      <td>98.69</td>\n",
              "      <td>7</td>\n",
              "      <td>C</td>\n",
              "      <td>Rural</td>\n",
              "      <td>0</td>\n",
              "    </tr>\n",
              "    <tr>\n",
              "      <th>3</th>\n",
              "      <td>19415</td>\n",
              "      <td>0.049</td>\n",
              "      <td>15341</td>\n",
              "      <td>250510</td>\n",
              "      <td>0.0</td>\n",
              "      <td>0.0</td>\n",
              "      <td>0.0</td>\n",
              "      <td>99.57</td>\n",
              "      <td>9</td>\n",
              "      <td>A</td>\n",
              "      <td>Urban</td>\n",
              "      <td>1</td>\n",
              "    </tr>\n",
              "    <tr>\n",
              "      <th>4</th>\n",
              "      <td>99379</td>\n",
              "      <td>0.052</td>\n",
              "      <td>31400</td>\n",
              "      <td>198680</td>\n",
              "      <td>0.0</td>\n",
              "      <td>0.0</td>\n",
              "      <td>0.0</td>\n",
              "      <td>99.87</td>\n",
              "      <td>12</td>\n",
              "      <td>B</td>\n",
              "      <td>Urban</td>\n",
              "      <td>1</td>\n",
              "    </tr>\n",
              "  </tbody>\n",
              "</table>\n",
              "</div>"
            ],
            "text/plain": [
              "       id  perc_premium_paid_by_cash_credit  ...  residence_area_type  target\n",
              "0  110936                             0.429  ...                Urban       1\n",
              "1   41492                             0.010  ...                Urban       1\n",
              "2   31300                             0.917  ...                Rural       0\n",
              "3   19415                             0.049  ...                Urban       1\n",
              "4   99379                             0.052  ...                Urban       1\n",
              "\n",
              "[5 rows x 12 columns]"
            ]
          },
          "metadata": {
            "tags": []
          },
          "execution_count": 4
        }
      ]
    },
    {
      "cell_type": "code",
      "metadata": {
        "id": "TYtpSwjn6wLx",
        "colab": {
          "base_uri": "https://localhost:8080/"
        },
        "outputId": "8ca20c47-0d18-43d9-f5d8-f990fb7f4ca4"
      },
      "source": [
        "#Checking number of rows and columns\n",
        "data.shape"
      ],
      "execution_count": 5,
      "outputs": [
        {
          "output_type": "execute_result",
          "data": {
            "text/plain": [
              "(79853, 12)"
            ]
          },
          "metadata": {
            "tags": []
          },
          "execution_count": 5
        }
      ]
    },
    {
      "cell_type": "code",
      "metadata": {
        "id": "JDfKLeIC6wLz",
        "colab": {
          "base_uri": "https://localhost:8080/"
        },
        "outputId": "20a8657e-747e-41d1-c3c8-adc643e67f28"
      },
      "source": [
        "#Displaying names of columns\n",
        "data.columns"
      ],
      "execution_count": 6,
      "outputs": [
        {
          "output_type": "execute_result",
          "data": {
            "text/plain": [
              "Index(['id', 'perc_premium_paid_by_cash_credit', 'age_in_days', 'Income',\n",
              "       'Count_3-6_months_late', 'Count_6-12_months_late',\n",
              "       'Count_more_than_12_months_late', 'application_underwriting_score',\n",
              "       'no_of_premiums_paid', 'sourcing_channel', 'residence_area_type',\n",
              "       'target'],\n",
              "      dtype='object')"
            ]
          },
          "metadata": {
            "tags": []
          },
          "execution_count": 6
        }
      ]
    },
    {
      "cell_type": "markdown",
      "metadata": {
        "id": "or8otXQ66wL0"
      },
      "source": [
        "## Variable Identification:\n",
        "Dependent Variable: Target\n",
        "Independent Variable: perc_premium_paid_by_cash_credit', age_in_days, Income, Count_3-6_months_late, Count_6-12_months_late, Count_more_than_12_months_late, application_underwriting_score, no_of_premiums_paid, sourcing_channel, residence_area_type"
      ]
    },
    {
      "cell_type": "code",
      "metadata": {
        "id": "SikfpJMg6wL0",
        "colab": {
          "base_uri": "https://localhost:8080/"
        },
        "outputId": "0db8322b-eec3-422b-e0dd-eb6fff42be6b"
      },
      "source": [
        "data.dtypes"
      ],
      "execution_count": 7,
      "outputs": [
        {
          "output_type": "execute_result",
          "data": {
            "text/plain": [
              "id                                    int64\n",
              "perc_premium_paid_by_cash_credit    float64\n",
              "age_in_days                           int64\n",
              "Income                                int64\n",
              "Count_3-6_months_late               float64\n",
              "Count_6-12_months_late              float64\n",
              "Count_more_than_12_months_late      float64\n",
              "application_underwriting_score      float64\n",
              "no_of_premiums_paid                   int64\n",
              "sourcing_channel                     object\n",
              "residence_area_type                  object\n",
              "target                                int64\n",
              "dtype: object"
            ]
          },
          "metadata": {
            "tags": []
          },
          "execution_count": 7
        }
      ]
    },
    {
      "cell_type": "markdown",
      "metadata": {
        "id": "3REUcgdd6wL1"
      },
      "source": [
        "Here, sourcing_channel, residence_area_type are categorical variables and rest others are continuous variables."
      ]
    },
    {
      "cell_type": "markdown",
      "metadata": {
        "id": "dRB9gDdv6wL2"
      },
      "source": [
        "# Univariate Analysis For Continuous Variables"
      ]
    },
    {
      "cell_type": "code",
      "metadata": {
        "id": "-Cb4SuoH6wL3",
        "colab": {
          "base_uri": "https://localhost:8080/",
          "height": 334
        },
        "outputId": "e252a158-d0f2-49d1-f119-54de542163d4"
      },
      "source": [
        "data.describe()"
      ],
      "execution_count": 8,
      "outputs": [
        {
          "output_type": "execute_result",
          "data": {
            "text/html": [
              "<div>\n",
              "<style scoped>\n",
              "    .dataframe tbody tr th:only-of-type {\n",
              "        vertical-align: middle;\n",
              "    }\n",
              "\n",
              "    .dataframe tbody tr th {\n",
              "        vertical-align: top;\n",
              "    }\n",
              "\n",
              "    .dataframe thead th {\n",
              "        text-align: right;\n",
              "    }\n",
              "</style>\n",
              "<table border=\"1\" class=\"dataframe\">\n",
              "  <thead>\n",
              "    <tr style=\"text-align: right;\">\n",
              "      <th></th>\n",
              "      <th>id</th>\n",
              "      <th>perc_premium_paid_by_cash_credit</th>\n",
              "      <th>age_in_days</th>\n",
              "      <th>Income</th>\n",
              "      <th>Count_3-6_months_late</th>\n",
              "      <th>Count_6-12_months_late</th>\n",
              "      <th>Count_more_than_12_months_late</th>\n",
              "      <th>application_underwriting_score</th>\n",
              "      <th>no_of_premiums_paid</th>\n",
              "      <th>target</th>\n",
              "    </tr>\n",
              "  </thead>\n",
              "  <tbody>\n",
              "    <tr>\n",
              "      <th>count</th>\n",
              "      <td>79853.000000</td>\n",
              "      <td>79853.000000</td>\n",
              "      <td>79853.000000</td>\n",
              "      <td>7.985300e+04</td>\n",
              "      <td>79756.000000</td>\n",
              "      <td>79756.000000</td>\n",
              "      <td>79756.000000</td>\n",
              "      <td>76879.000000</td>\n",
              "      <td>79853.000000</td>\n",
              "      <td>79853.000000</td>\n",
              "    </tr>\n",
              "    <tr>\n",
              "      <th>mean</th>\n",
              "      <td>57167.166368</td>\n",
              "      <td>0.314288</td>\n",
              "      <td>18846.696906</td>\n",
              "      <td>2.088472e+05</td>\n",
              "      <td>0.248671</td>\n",
              "      <td>0.078188</td>\n",
              "      <td>0.060008</td>\n",
              "      <td>99.067291</td>\n",
              "      <td>10.863887</td>\n",
              "      <td>0.937410</td>\n",
              "    </tr>\n",
              "    <tr>\n",
              "      <th>std</th>\n",
              "      <td>32928.970160</td>\n",
              "      <td>0.334915</td>\n",
              "      <td>5208.719136</td>\n",
              "      <td>4.965826e+05</td>\n",
              "      <td>0.691468</td>\n",
              "      <td>0.436507</td>\n",
              "      <td>0.312023</td>\n",
              "      <td>0.739799</td>\n",
              "      <td>5.170687</td>\n",
              "      <td>0.242226</td>\n",
              "    </tr>\n",
              "    <tr>\n",
              "      <th>min</th>\n",
              "      <td>2.000000</td>\n",
              "      <td>0.000000</td>\n",
              "      <td>7670.000000</td>\n",
              "      <td>2.403000e+04</td>\n",
              "      <td>0.000000</td>\n",
              "      <td>0.000000</td>\n",
              "      <td>0.000000</td>\n",
              "      <td>91.900000</td>\n",
              "      <td>2.000000</td>\n",
              "      <td>0.000000</td>\n",
              "    </tr>\n",
              "    <tr>\n",
              "      <th>25%</th>\n",
              "      <td>28640.000000</td>\n",
              "      <td>0.034000</td>\n",
              "      <td>14974.000000</td>\n",
              "      <td>1.080100e+05</td>\n",
              "      <td>0.000000</td>\n",
              "      <td>0.000000</td>\n",
              "      <td>0.000000</td>\n",
              "      <td>98.810000</td>\n",
              "      <td>7.000000</td>\n",
              "      <td>1.000000</td>\n",
              "    </tr>\n",
              "    <tr>\n",
              "      <th>50%</th>\n",
              "      <td>57262.000000</td>\n",
              "      <td>0.167000</td>\n",
              "      <td>18625.000000</td>\n",
              "      <td>1.665600e+05</td>\n",
              "      <td>0.000000</td>\n",
              "      <td>0.000000</td>\n",
              "      <td>0.000000</td>\n",
              "      <td>99.210000</td>\n",
              "      <td>10.000000</td>\n",
              "      <td>1.000000</td>\n",
              "    </tr>\n",
              "    <tr>\n",
              "      <th>75%</th>\n",
              "      <td>85632.000000</td>\n",
              "      <td>0.538000</td>\n",
              "      <td>22636.000000</td>\n",
              "      <td>2.520900e+05</td>\n",
              "      <td>0.000000</td>\n",
              "      <td>0.000000</td>\n",
              "      <td>0.000000</td>\n",
              "      <td>99.540000</td>\n",
              "      <td>14.000000</td>\n",
              "      <td>1.000000</td>\n",
              "    </tr>\n",
              "    <tr>\n",
              "      <th>max</th>\n",
              "      <td>114076.000000</td>\n",
              "      <td>1.000000</td>\n",
              "      <td>37602.000000</td>\n",
              "      <td>9.026260e+07</td>\n",
              "      <td>13.000000</td>\n",
              "      <td>17.000000</td>\n",
              "      <td>11.000000</td>\n",
              "      <td>99.890000</td>\n",
              "      <td>60.000000</td>\n",
              "      <td>1.000000</td>\n",
              "    </tr>\n",
              "  </tbody>\n",
              "</table>\n",
              "</div>"
            ],
            "text/plain": [
              "                  id  ...        target\n",
              "count   79853.000000  ...  79853.000000\n",
              "mean    57167.166368  ...      0.937410\n",
              "std     32928.970160  ...      0.242226\n",
              "min         2.000000  ...      0.000000\n",
              "25%     28640.000000  ...      1.000000\n",
              "50%     57262.000000  ...      1.000000\n",
              "75%     85632.000000  ...      1.000000\n",
              "max    114076.000000  ...      1.000000\n",
              "\n",
              "[8 rows x 10 columns]"
            ]
          },
          "metadata": {
            "tags": []
          },
          "execution_count": 8
        }
      ]
    },
    {
      "cell_type": "markdown",
      "metadata": {
        "id": "NVv4D1BQ6wL3"
      },
      "source": [
        "Here we can see that count_3-6_months_late, count_6-12_months_late, count_more_than_12_months_late, and application_underwriting_score have missing values. We will fill these missing values later in this segment. First, we will draw histograms and box-plots for each independent continuous variable to see their distributions and check if they have outliers."
      ]
    },
    {
      "cell_type": "code",
      "metadata": {
        "id": "S2mv8FQq6wL4",
        "colab": {
          "base_uri": "https://localhost:8080/",
          "height": 282
        },
        "outputId": "4702e77e-23af-4d59-a5cd-ce7a4c79287c"
      },
      "source": [
        "data[\"perc_premium_paid_by_cash_credit\"].plot.hist()"
      ],
      "execution_count": 9,
      "outputs": [
        {
          "output_type": "execute_result",
          "data": {
            "text/plain": [
              "<matplotlib.axes._subplots.AxesSubplot at 0x7fe28de92290>"
            ]
          },
          "metadata": {
            "tags": []
          },
          "execution_count": 9
        },
        {
          "output_type": "display_data",
          "data": {
            "image/png": "[encoded data removed]",
            "text/plain": [
              "<Figure size 432x288 with 1 Axes>"
            ]
          },
          "metadata": {
            "tags": [],
            "needs_background": "light"
          }
        }
      ]
    },
    {
      "cell_type": "markdown",
      "metadata": {
        "id": "3cnMe4E16wL5"
      },
      "source": [
        "Here, we can see that a majority of people have not paid their premium through cash, but with some other means. "
      ]
    },
    {
      "cell_type": "code",
      "metadata": {
        "id": "CbAaR2JH6wL6",
        "colab": {
          "base_uri": "https://localhost:8080/",
          "height": 283
        },
        "outputId": "00be0dac-967c-4a79-8ea9-e9855b5b46a8"
      },
      "source": [
        "data[\"perc_premium_paid_by_cash_credit\"].plot.box()"
      ],
      "execution_count": 10,
      "outputs": [
        {
          "output_type": "execute_result",
          "data": {
            "text/plain": [
              "<matplotlib.axes._subplots.AxesSubplot at 0x7fe28ddb7950>"
            ]
          },
          "metadata": {
            "tags": []
          },
          "execution_count": 10
        },
        {
          "output_type": "display_data",
          "data": {
            "image/png": "[encoded data removed]",
            "text/plain": [
              "<Figure size 432x288 with 1 Axes>"
            ]
          },
          "metadata": {
            "tags": [],
            "needs_background": "light"
          }
        }
      ]
    },
    {
      "cell_type": "markdown",
      "metadata": {
        "id": "oz5BFkRB6wL6"
      },
      "source": [
        "We will be using mean to find the central tendency of columns with no outliers and median for columns with outliers."
      ]
    },
    {
      "cell_type": "code",
      "metadata": {
        "id": "4NbSjl6g6wL7",
        "colab": {
          "base_uri": "https://localhost:8080/"
        },
        "outputId": "df7cc96c-f046-4185-a0c0-236cfa83e7ff"
      },
      "source": [
        "print(data[\"perc_premium_paid_by_cash_credit\"].mean())"
      ],
      "execution_count": 11,
      "outputs": [
        {
          "output_type": "stream",
          "text": [
            "0.31428774122450603\n"
          ],
          "name": "stdout"
        }
      ]
    },
    {
      "cell_type": "markdown",
      "metadata": {
        "id": "Dm4KV6M26wL8"
      },
      "source": [
        "This means that on an average, people have paid 31.42% of their premium in cash."
      ]
    },
    {
      "cell_type": "code",
      "metadata": {
        "id": "5FSmnG1l6wL8",
        "colab": {
          "base_uri": "https://localhost:8080/",
          "height": 282
        },
        "outputId": "72be0f5c-81ed-4031-c132-0bf5f0d210fc"
      },
      "source": [
        "data[\"age_in_days\"].plot.hist()"
      ],
      "execution_count": 12,
      "outputs": [
        {
          "output_type": "execute_result",
          "data": {
            "text/plain": [
              "<matplotlib.axes._subplots.AxesSubplot at 0x7fe28d8b0910>"
            ]
          },
          "metadata": {
            "tags": []
          },
          "execution_count": 12
        },
        {
          "output_type": "display_data",
          "data": {
            "image/png": "[encoded data removed]",
            "text/plain": [
              "<Figure size 432x288 with 1 Axes>"
            ]
          },
          "metadata": {
            "tags": [],
            "needs_background": "light"
          }
        }
      ]
    },
    {
      "cell_type": "markdown",
      "metadata": {
        "id": "eXUdPCVZ6wL9"
      },
      "source": [
        "Here, we can see a majority of our customers lie in the age range of 54-68 years (20,000-25,000 days)."
      ]
    },
    {
      "cell_type": "code",
      "metadata": {
        "id": "uHDpTwoz6wL9",
        "colab": {
          "base_uri": "https://localhost:8080/",
          "height": 283
        },
        "outputId": "085a4b0b-c35a-4779-db0c-673f824b882c"
      },
      "source": [
        "data[\"age_in_days\"].plot.box()"
      ],
      "execution_count": 13,
      "outputs": [
        {
          "output_type": "execute_result",
          "data": {
            "text/plain": [
              "<matplotlib.axes._subplots.AxesSubplot at 0x7fe28ddc8910>"
            ]
          },
          "metadata": {
            "tags": []
          },
          "execution_count": 13
        },
        {
          "output_type": "display_data",
          "data": {
            "image/png": "[encoded data removed]",
            "text/plain": [
              "<Figure size 432x288 with 1 Axes>"
            ]
          },
          "metadata": {
            "tags": [],
            "needs_background": "light"
          }
        }
      ]
    },
    {
      "cell_type": "markdown",
      "metadata": {
        "id": "v448EoZI6wL-"
      },
      "source": [
        "### Here, we can see that \"age_in_days\" has outliers. Let's make a separate list of all columns having outliers for future ease."
      ]
    },
    {
      "cell_type": "code",
      "metadata": {
        "id": "6gqJnzFM6wL_",
        "colab": {
          "base_uri": "https://localhost:8080/"
        },
        "outputId": "01737aa6-319f-4e8c-d86d-2edc58a24cb2"
      },
      "source": [
        "outliers_list = []\n",
        "outliers_list.append(\"age_in_days\")\n",
        "outliers_list"
      ],
      "execution_count": 14,
      "outputs": [
        {
          "output_type": "execute_result",
          "data": {
            "text/plain": [
              "['age_in_days']"
            ]
          },
          "metadata": {
            "tags": []
          },
          "execution_count": 14
        }
      ]
    },
    {
      "cell_type": "code",
      "metadata": {
        "id": "aeWaEAVr6wL_",
        "colab": {
          "base_uri": "https://localhost:8080/"
        },
        "outputId": "e4eabce5-32d8-4183-9cd9-c66b18bdaeb8"
      },
      "source": [
        "print(data[\"age_in_days\"].min())\n",
        "print(data[\"age_in_days\"].max())\n",
        "print(data[\"age_in_days\"].median())"
      ],
      "execution_count": 15,
      "outputs": [
        {
          "output_type": "stream",
          "text": [
            "7670\n",
            "37602\n",
            "18625.0\n"
          ],
          "name": "stdout"
        }
      ]
    },
    {
      "cell_type": "markdown",
      "metadata": {
        "id": "OzHYNzhm6wMA"
      },
      "source": [
        "Our youngest customer is 7670 days (approx. 21 years), oldest customer is of 37602 days (approx. 103 years), and the average age of our customers is 18625 days (approx. 51 years)."
      ]
    },
    {
      "cell_type": "code",
      "metadata": {
        "id": "WsyBifp36wMB",
        "colab": {
          "base_uri": "https://localhost:8080/",
          "height": 295
        },
        "outputId": "27598e7d-ac0b-42a3-a332-0664dea2eeef"
      },
      "source": [
        "data[\"Income\"].plot.hist()"
      ],
      "execution_count": 16,
      "outputs": [
        {
          "output_type": "execute_result",
          "data": {
            "text/plain": [
              "<matplotlib.axes._subplots.AxesSubplot at 0x7fe28d7e1ed0>"
            ]
          },
          "metadata": {
            "tags": []
          },
          "execution_count": 16
        },
        {
          "output_type": "display_data",
          "data": {
            "image/png": "[encoded data removed]",
            "text/plain": [
              "<Figure size 432x288 with 1 Axes>"
            ]
          },
          "metadata": {
            "tags": [],
            "needs_background": "light"
          }
        }
      ]
    },
    {
      "cell_type": "code",
      "metadata": {
        "id": "DRnWC2Mh6wMB",
        "colab": {
          "base_uri": "https://localhost:8080/",
          "height": 293
        },
        "outputId": "9968062f-1e7a-44aa-bcb3-4905aecd244e"
      },
      "source": [
        "data[\"Income\"].plot.box()"
      ],
      "execution_count": 17,
      "outputs": [
        {
          "output_type": "execute_result",
          "data": {
            "text/plain": [
              "<matplotlib.axes._subplots.AxesSubplot at 0x7fe28d71a390>"
            ]
          },
          "metadata": {
            "tags": []
          },
          "execution_count": 17
        },
        {
          "output_type": "display_data",
          "data": {
            "image/png": "[encoded data removed]",
            "text/plain": [
              "<Figure size 432x288 with 1 Axes>"
            ]
          },
          "metadata": {
            "tags": [],
            "needs_background": "light"
          }
        }
      ]
    },
    {
      "cell_type": "code",
      "metadata": {
        "id": "dr_43rrc6wMC",
        "colab": {
          "base_uri": "https://localhost:8080/"
        },
        "outputId": "7ebc722a-44f0-43e0-e7f1-201e4188923e"
      },
      "source": [
        "outliers_list.append(\"Income\")\n",
        "outliers_list"
      ],
      "execution_count": 18,
      "outputs": [
        {
          "output_type": "execute_result",
          "data": {
            "text/plain": [
              "['age_in_days', 'Income']"
            ]
          },
          "metadata": {
            "tags": []
          },
          "execution_count": 18
        }
      ]
    },
    {
      "cell_type": "code",
      "metadata": {
        "id": "gGzyNWj56wMC",
        "colab": {
          "base_uri": "https://localhost:8080/"
        },
        "outputId": "6de48ec6-f2ab-4ac7-a0ec-d6d93e07c3d8"
      },
      "source": [
        "print(data[\"Income\"].min())\n",
        "print(data[\"Income\"].max())\n",
        "print(data[\"Income\"].median())"
      ],
      "execution_count": 19,
      "outputs": [
        {
          "output_type": "stream",
          "text": [
            "24030\n",
            "90262600\n",
            "166560.0\n"
          ],
          "name": "stdout"
        }
      ]
    },
    {
      "cell_type": "markdown",
      "metadata": {
        "id": "pNtwrRXj6wMD"
      },
      "source": [
        "The lowest income of among our customers is 24,030 Rs. while the highest being 9,02,62,600 RS with an average of 1,66,560 Rs. Note that customers with lower income are less likely to pay premium on time."
      ]
    },
    {
      "cell_type": "code",
      "metadata": {
        "id": "lzQ-J0uW6wME",
        "colab": {
          "base_uri": "https://localhost:8080/",
          "height": 282
        },
        "outputId": "45176abc-ddc3-4008-8017-d58841bbfbcc"
      },
      "source": [
        "data[\"application_underwriting_score\"].plot.hist()"
      ],
      "execution_count": 20,
      "outputs": [
        {
          "output_type": "execute_result",
          "data": {
            "text/plain": [
              "<matplotlib.axes._subplots.AxesSubplot at 0x7fe28d69e950>"
            ]
          },
          "metadata": {
            "tags": []
          },
          "execution_count": 20
        },
        {
          "output_type": "display_data",
          "data": {
            "image/png": "[encoded data removed]",
            "text/plain": [
              "<Figure size 432x288 with 1 Axes>"
            ]
          },
          "metadata": {
            "tags": [],
            "needs_background": "light"
          }
        }
      ]
    },
    {
      "cell_type": "markdown",
      "metadata": {
        "id": "gRA2daTG6wMF"
      },
      "source": [
        "This is a left-skewed distribution telling us that approximately 40,000 customers have a good (near 100) application underwriting score."
      ]
    },
    {
      "cell_type": "code",
      "metadata": {
        "id": "53sr-Q5_6wMF",
        "colab": {
          "base_uri": "https://localhost:8080/",
          "height": 283
        },
        "outputId": "a15dee57-f347-49c2-8733-4711d963fbe7"
      },
      "source": [
        "data[\"application_underwriting_score\"].plot.box()"
      ],
      "execution_count": 21,
      "outputs": [
        {
          "output_type": "execute_result",
          "data": {
            "text/plain": [
              "<matplotlib.axes._subplots.AxesSubplot at 0x7fe28d632c10>"
            ]
          },
          "metadata": {
            "tags": []
          },
          "execution_count": 21
        },
        {
          "output_type": "display_data",
          "data": {
            "image/png": "[encoded data removed]",
            "text/plain": [
              "<Figure size 432x288 with 1 Axes>"
            ]
          },
          "metadata": {
            "tags": [],
            "needs_background": "light"
          }
        }
      ]
    },
    {
      "cell_type": "code",
      "metadata": {
        "id": "i4DasaAz6wMG",
        "colab": {
          "base_uri": "https://localhost:8080/"
        },
        "outputId": "64608ffc-af0d-4d8c-9d6d-b63285815b02"
      },
      "source": [
        "outliers_list.append(\"application_underwriting_score\")\n",
        "outliers_list"
      ],
      "execution_count": 22,
      "outputs": [
        {
          "output_type": "execute_result",
          "data": {
            "text/plain": [
              "['age_in_days', 'Income', 'application_underwriting_score']"
            ]
          },
          "metadata": {
            "tags": []
          },
          "execution_count": 22
        }
      ]
    },
    {
      "cell_type": "code",
      "metadata": {
        "id": "sR4Zrzm_6wMH",
        "colab": {
          "base_uri": "https://localhost:8080/"
        },
        "outputId": "efc7ed70-ff25-46c3-e87d-09a5cc11bf7f"
      },
      "source": [
        "print(data[\"application_underwriting_score\"].min())\n",
        "print(data[\"application_underwriting_score\"].max())\n",
        "print(data[\"application_underwriting_score\"].median())"
      ],
      "execution_count": 23,
      "outputs": [
        {
          "output_type": "stream",
          "text": [
            "91.9\n",
            "99.89\n",
            "99.21\n"
          ],
          "name": "stdout"
        }
      ]
    },
    {
      "cell_type": "markdown",
      "metadata": {
        "id": "moS2Nghf6wMH"
      },
      "source": [
        "Maximum A.U.S. = 99.89\n",
        "\n",
        "Minimum A.U.S. = 91.9\n",
        "\n",
        "Average A.U.S. = 99.21"
      ]
    },
    {
      "cell_type": "code",
      "metadata": {
        "id": "-JUZDTMg6wMI",
        "colab": {
          "base_uri": "https://localhost:8080/",
          "height": 282
        },
        "outputId": "44af082c-101a-4a02-99cc-c68bab855b3e"
      },
      "source": [
        "data[\"no_of_premiums_paid\"].plot.hist()"
      ],
      "execution_count": 24,
      "outputs": [
        {
          "output_type": "execute_result",
          "data": {
            "text/plain": [
              "<matplotlib.axes._subplots.AxesSubplot at 0x7fe28d5a7710>"
            ]
          },
          "metadata": {
            "tags": []
          },
          "execution_count": 24
        },
        {
          "output_type": "display_data",
          "data": {
            "image/png": "[encoded data removed]",
            "text/plain": [
              "<Figure size 432x288 with 1 Axes>"
            ]
          },
          "metadata": {
            "tags": [],
            "needs_background": "light"
          }
        }
      ]
    },
    {
      "cell_type": "markdown",
      "metadata": {
        "id": "1jYRcs-x6wMI"
      },
      "source": [
        "This is a right skewed distribution telling us that approximately 35,000 customers have paid atleast 10 premiums. Note that the number of customers decrease as the number of premiums paid increases, which means they both have a negative correlation.\n"
      ]
    },
    {
      "cell_type": "code",
      "metadata": {
        "id": "U7yjdHEe6wMJ",
        "colab": {
          "base_uri": "https://localhost:8080/",
          "height": 283
        },
        "outputId": "35609826-18a2-49ab-e201-903cfc8a795b"
      },
      "source": [
        "data[\"no_of_premiums_paid\"].plot.box()"
      ],
      "execution_count": 25,
      "outputs": [
        {
          "output_type": "execute_result",
          "data": {
            "text/plain": [
              "<matplotlib.axes._subplots.AxesSubplot at 0x7fe28d533790>"
            ]
          },
          "metadata": {
            "tags": []
          },
          "execution_count": 25
        },
        {
          "output_type": "display_data",
          "data": {
            "image/png": "[encoded data removed]",
            "text/plain": [
              "<Figure size 432x288 with 1 Axes>"
            ]
          },
          "metadata": {
            "tags": [],
            "needs_background": "light"
          }
        }
      ]
    },
    {
      "cell_type": "code",
      "metadata": {
        "id": "gLvpY4RV6wMK",
        "colab": {
          "base_uri": "https://localhost:8080/"
        },
        "outputId": "b8f44c16-7640-4d20-c499-de800a6c1b9c"
      },
      "source": [
        "outliers_list.append(\"no_of_premiums_paid\")\n",
        "outliers_list"
      ],
      "execution_count": 26,
      "outputs": [
        {
          "output_type": "execute_result",
          "data": {
            "text/plain": [
              "['age_in_days',\n",
              " 'Income',\n",
              " 'application_underwriting_score',\n",
              " 'no_of_premiums_paid']"
            ]
          },
          "metadata": {
            "tags": []
          },
          "execution_count": 26
        }
      ]
    },
    {
      "cell_type": "code",
      "metadata": {
        "id": "iQL-i4jo6wMK",
        "colab": {
          "base_uri": "https://localhost:8080/"
        },
        "outputId": "87f39ac3-4eec-4d11-f07b-9aaeb4f4fd25"
      },
      "source": [
        "print(data[\"no_of_premiums_paid\"].min())\n",
        "print(data[\"no_of_premiums_paid\"].max())\n",
        "print(data[\"no_of_premiums_paid\"].median())"
      ],
      "execution_count": 27,
      "outputs": [
        {
          "output_type": "stream",
          "text": [
            "2\n",
            "60\n",
            "10.0\n"
          ],
          "name": "stdout"
        }
      ]
    },
    {
      "cell_type": "markdown",
      "metadata": {
        "id": "p_hPNfG86wML"
      },
      "source": [
        "Lease number of premiums paid by a customer = 2\n",
        "\n",
        "Most number of premiums paid by a customer = 60\n",
        "\n",
        "Average premiums paid = 10"
      ]
    },
    {
      "cell_type": "code",
      "metadata": {
        "id": "Lr1QAAhf6wML",
        "colab": {
          "base_uri": "https://localhost:8080/",
          "height": 282
        },
        "outputId": "8e1d0d7f-7211-4e23-f998-95a3dbc0014f"
      },
      "source": [
        "data[\"target\"].plot.hist()"
      ],
      "execution_count": 28,
      "outputs": [
        {
          "output_type": "execute_result",
          "data": {
            "text/plain": [
              "<matplotlib.axes._subplots.AxesSubplot at 0x7fe28d498310>"
            ]
          },
          "metadata": {
            "tags": []
          },
          "execution_count": 28
        },
        {
          "output_type": "display_data",
          "data": {
            "image/png": "[encoded data removed]",
            "text/plain": [
              "<Figure size 432x288 with 1 Axes>"
            ]
          },
          "metadata": {
            "tags": [],
            "needs_background": "light"
          }
        }
      ]
    },
    {
      "cell_type": "markdown",
      "metadata": {
        "id": "-x0edKid6wMN"
      },
      "source": [
        "This shows that a high number of customers are likely to pay their premiums on time."
      ]
    },
    {
      "cell_type": "code",
      "metadata": {
        "id": "GRZ76FdJ6wMN",
        "colab": {
          "base_uri": "https://localhost:8080/",
          "height": 282
        },
        "outputId": "ca23aec1-bd65-483c-aad0-4f5402530613"
      },
      "source": [
        "data[\"target\"].plot.box()"
      ],
      "execution_count": 29,
      "outputs": [
        {
          "output_type": "execute_result",
          "data": {
            "text/plain": [
              "<matplotlib.axes._subplots.AxesSubplot at 0x7fe28d432090>"
            ]
          },
          "metadata": {
            "tags": []
          },
          "execution_count": 29
        },
        {
          "output_type": "display_data",
          "data": {
            "image/png": "[encoded data removed]",
            "text/plain": [
              "<Figure size 432x288 with 1 Axes>"
            ]
          },
          "metadata": {
            "tags": [],
            "needs_background": "light"
          }
        }
      ]
    },
    {
      "cell_type": "markdown",
      "metadata": {
        "id": "4pB3tUyF6wMO"
      },
      "source": [
        "# Unvariate Analysis of Categorical Variables"
      ]
    },
    {
      "cell_type": "markdown",
      "metadata": {
        "id": "SL6iIaLP6wMO"
      },
      "source": [
        "Here, I have treated Count_3-6_months_late, Count_6-12_months_late, and Count_more_than_12_months_late as categorical variables as there is not much variation in their values."
      ]
    },
    {
      "cell_type": "code",
      "metadata": {
        "id": "9gFlmNc06wMP",
        "colab": {
          "base_uri": "https://localhost:8080/"
        },
        "outputId": "0d93595c-0be8-41c7-b6fa-c16ea0a97721"
      },
      "source": [
        "data[\"Count_3-6_months_late\"].value_counts()"
      ],
      "execution_count": 30,
      "outputs": [
        {
          "output_type": "execute_result",
          "data": {
            "text/plain": [
              "0.0     66801\n",
              "1.0      8826\n",
              "2.0      2519\n",
              "3.0       954\n",
              "4.0       374\n",
              "5.0       168\n",
              "6.0        68\n",
              "7.0        23\n",
              "8.0        15\n",
              "9.0         4\n",
              "11.0        1\n",
              "12.0        1\n",
              "13.0        1\n",
              "10.0        1\n",
              "Name: Count_3-6_months_late, dtype: int64"
            ]
          },
          "metadata": {
            "tags": []
          },
          "execution_count": 30
        }
      ]
    },
    {
      "cell_type": "code",
      "metadata": {
        "id": "5TF2j73a6wMP",
        "colab": {
          "base_uri": "https://localhost:8080/",
          "height": 298
        },
        "outputId": "b586a87b-8b7c-4bfe-e3aa-e18026e48471"
      },
      "source": [
        "data[\"Count_3-6_months_late\"].value_counts().plot.bar()"
      ],
      "execution_count": 31,
      "outputs": [
        {
          "output_type": "execute_result",
          "data": {
            "text/plain": [
              "<matplotlib.axes._subplots.AxesSubplot at 0x7fe28d3912d0>"
            ]
          },
          "metadata": {
            "tags": []
          },
          "execution_count": 31
        },
        {
          "output_type": "display_data",
          "data": {
            "image/png": "[encoded data removed]",
            "text/plain": [
              "<Figure size 432x288 with 1 Axes>"
            ]
          },
          "metadata": {
            "tags": [],
            "needs_background": "light"
          }
        }
      ]
    },
    {
      "cell_type": "code",
      "metadata": {
        "id": "Q7CNFgPC6wMQ",
        "colab": {
          "base_uri": "https://localhost:8080/"
        },
        "outputId": "590e1f75-2931-4056-dd38-1dc2282744da"
      },
      "source": [
        "data[\"Count_6-12_months_late\"].value_counts()"
      ],
      "execution_count": 32,
      "outputs": [
        {
          "output_type": "execute_result",
          "data": {
            "text/plain": [
              "0.0     75831\n",
              "1.0      2680\n",
              "2.0       693\n",
              "3.0       317\n",
              "4.0       130\n",
              "5.0        46\n",
              "6.0        26\n",
              "7.0        11\n",
              "8.0         5\n",
              "10.0        4\n",
              "9.0         4\n",
              "14.0        2\n",
              "11.0        2\n",
              "13.0        2\n",
              "17.0        1\n",
              "12.0        1\n",
              "15.0        1\n",
              "Name: Count_6-12_months_late, dtype: int64"
            ]
          },
          "metadata": {
            "tags": []
          },
          "execution_count": 32
        }
      ]
    },
    {
      "cell_type": "code",
      "metadata": {
        "id": "Uo5FPdfO6wMR",
        "colab": {
          "base_uri": "https://localhost:8080/",
          "height": 295
        },
        "outputId": "537ae3ea-6a6c-426b-b184-1cc30ff05207"
      },
      "source": [
        "data[\"Count_6-12_months_late\"].value_counts().plot.bar()"
      ],
      "execution_count": 33,
      "outputs": [
        {
          "output_type": "execute_result",
          "data": {
            "text/plain": [
              "<matplotlib.axes._subplots.AxesSubplot at 0x7fe28d343e10>"
            ]
          },
          "metadata": {
            "tags": []
          },
          "execution_count": 33
        },
        {
          "output_type": "display_data",
          "data": {
            "image/png": "[encoded data removed]",
            "text/plain": [
              "<Figure size 432x288 with 1 Axes>"
            ]
          },
          "metadata": {
            "tags": [],
            "needs_background": "light"
          }
        }
      ]
    },
    {
      "cell_type": "code",
      "metadata": {
        "id": "3Qvl0dua6wMS",
        "colab": {
          "base_uri": "https://localhost:8080/"
        },
        "outputId": "aab0a71c-0cac-411a-d5aa-93d9ccbce4a4"
      },
      "source": [
        "data[\"Count_more_than_12_months_late\"].value_counts()"
      ],
      "execution_count": 34,
      "outputs": [
        {
          "output_type": "execute_result",
          "data": {
            "text/plain": [
              "0.0     76038\n",
              "1.0      2996\n",
              "2.0       498\n",
              "3.0       151\n",
              "4.0        48\n",
              "5.0        13\n",
              "6.0         6\n",
              "7.0         3\n",
              "8.0         2\n",
              "11.0        1\n",
              "Name: Count_more_than_12_months_late, dtype: int64"
            ]
          },
          "metadata": {
            "tags": []
          },
          "execution_count": 34
        }
      ]
    },
    {
      "cell_type": "code",
      "metadata": {
        "id": "VtgPW0nG6wMS",
        "colab": {
          "base_uri": "https://localhost:8080/",
          "height": 295
        },
        "outputId": "f3b7d5fd-fd6c-4140-87d0-94d6569c9b49"
      },
      "source": [
        "data[\"Count_more_than_12_months_late\"].value_counts().plot.bar()"
      ],
      "execution_count": 35,
      "outputs": [
        {
          "output_type": "execute_result",
          "data": {
            "text/plain": [
              "<matplotlib.axes._subplots.AxesSubplot at 0x7fe28d271f90>"
            ]
          },
          "metadata": {
            "tags": []
          },
          "execution_count": 35
        },
        {
          "output_type": "display_data",
          "data": {
            "image/png": "[encoded data removed]",
            "text/plain": [
              "<Figure size 432x288 with 1 Axes>"
            ]
          },
          "metadata": {
            "tags": [],
            "needs_background": "light"
          }
        }
      ]
    },
    {
      "cell_type": "markdown",
      "metadata": {
        "id": "mz6c7f0Q6wMT"
      },
      "source": [
        "Here, we can see that usually alot of our customers have paid their premiums on time."
      ]
    },
    {
      "cell_type": "code",
      "metadata": {
        "id": "fQqhvguq6wMT",
        "colab": {
          "base_uri": "https://localhost:8080/"
        },
        "outputId": "63725623-7262-4787-ea34-dccbb69b5169"
      },
      "source": [
        "data[\"sourcing_channel\"].value_counts()"
      ],
      "execution_count": 36,
      "outputs": [
        {
          "output_type": "execute_result",
          "data": {
            "text/plain": [
              "A    43134\n",
              "B    16512\n",
              "C    12039\n",
              "D     7559\n",
              "E      609\n",
              "Name: sourcing_channel, dtype: int64"
            ]
          },
          "metadata": {
            "tags": []
          },
          "execution_count": 36
        }
      ]
    },
    {
      "cell_type": "code",
      "metadata": {
        "id": "vLmrD69R6wMU",
        "colab": {
          "base_uri": "https://localhost:8080/",
          "height": 280
        },
        "outputId": "10a81798-05f7-4f84-a944-a76ea27a998d"
      },
      "source": [
        "data[\"sourcing_channel\"].value_counts().plot.bar()"
      ],
      "execution_count": 37,
      "outputs": [
        {
          "output_type": "execute_result",
          "data": {
            "text/plain": [
              "<matplotlib.axes._subplots.AxesSubplot at 0x7fe28d1fd310>"
            ]
          },
          "metadata": {
            "tags": []
          },
          "execution_count": 37
        },
        {
          "output_type": "display_data",
          "data": {
            "image/png": "[encoded data removed]",
            "text/plain": [
              "<Figure size 432x288 with 1 Axes>"
            ]
          },
          "metadata": {
            "tags": [],
            "needs_background": "light"
          }
        }
      ]
    },
    {
      "cell_type": "code",
      "metadata": {
        "id": "aBS1MKCb6wMU",
        "colab": {
          "base_uri": "https://localhost:8080/"
        },
        "outputId": "02a2a96c-bf60-4b09-991e-9ce08db3a304"
      },
      "source": [
        "data[\"residence_area_type\"].value_counts()"
      ],
      "execution_count": 38,
      "outputs": [
        {
          "output_type": "execute_result",
          "data": {
            "text/plain": [
              "Urban    48183\n",
              "Rural    31670\n",
              "Name: residence_area_type, dtype: int64"
            ]
          },
          "metadata": {
            "tags": []
          },
          "execution_count": 38
        }
      ]
    },
    {
      "cell_type": "code",
      "metadata": {
        "id": "NuNo79mS6wMV",
        "colab": {
          "base_uri": "https://localhost:8080/",
          "height": 304
        },
        "outputId": "e033eda4-7c85-4c67-f9ad-3eae69fadac5"
      },
      "source": [
        "data[\"residence_area_type\"].value_counts().plot.bar()"
      ],
      "execution_count": 39,
      "outputs": [
        {
          "output_type": "execute_result",
          "data": {
            "text/plain": [
              "<matplotlib.axes._subplots.AxesSubplot at 0x7fe28d620050>"
            ]
          },
          "metadata": {
            "tags": []
          },
          "execution_count": 39
        },
        {
          "output_type": "display_data",
          "data": {
            "image/png": "[encoded data removed]",
            "text/plain": [
              "<Figure size 432x288 with 1 Axes>"
            ]
          },
          "metadata": {
            "tags": [],
            "needs_background": "light"
          }
        }
      ]
    },
    {
      "cell_type": "markdown",
      "metadata": {
        "id": "uo1KBmPt6wMW"
      },
      "source": [
        "# Bivariate Analysis\n",
        "### Our target variable here is continuous, hence we will perform continuous-continuous B.A. and continuous-categorical B.A."
      ]
    },
    {
      "cell_type": "markdown",
      "metadata": {
        "id": "mnJsqgEI6wMW"
      },
      "source": [
        "## Proceeding with continuous-continuous bivariate analysis "
      ]
    },
    {
      "cell_type": "code",
      "metadata": {
        "id": "4ow1nqYS6wMW",
        "colab": {
          "base_uri": "https://localhost:8080/",
          "height": 396
        },
        "outputId": "056ea33e-e625-496f-bde3-a53a99c3c5ae"
      },
      "source": [
        "data.corr()"
      ],
      "execution_count": 40,
      "outputs": [
        {
          "output_type": "execute_result",
          "data": {
            "text/html": [
              "<div>\n",
              "<style scoped>\n",
              "    .dataframe tbody tr th:only-of-type {\n",
              "        vertical-align: middle;\n",
              "    }\n",
              "\n",
              "    .dataframe tbody tr th {\n",
              "        vertical-align: top;\n",
              "    }\n",
              "\n",
              "    .dataframe thead th {\n",
              "        text-align: right;\n",
              "    }\n",
              "</style>\n",
              "<table border=\"1\" class=\"dataframe\">\n",
              "  <thead>\n",
              "    <tr style=\"text-align: right;\">\n",
              "      <th></th>\n",
              "      <th>id</th>\n",
              "      <th>perc_premium_paid_by_cash_credit</th>\n",
              "      <th>age_in_days</th>\n",
              "      <th>Income</th>\n",
              "      <th>Count_3-6_months_late</th>\n",
              "      <th>Count_6-12_months_late</th>\n",
              "      <th>Count_more_than_12_months_late</th>\n",
              "      <th>application_underwriting_score</th>\n",
              "      <th>no_of_premiums_paid</th>\n",
              "      <th>target</th>\n",
              "    </tr>\n",
              "  </thead>\n",
              "  <tbody>\n",
              "    <tr>\n",
              "      <th>id</th>\n",
              "      <td>1.000000</td>\n",
              "      <td>-0.004833</td>\n",
              "      <td>0.005184</td>\n",
              "      <td>-0.001798</td>\n",
              "      <td>-0.005660</td>\n",
              "      <td>-0.002125</td>\n",
              "      <td>0.003424</td>\n",
              "      <td>-0.002124</td>\n",
              "      <td>-0.003328</td>\n",
              "      <td>-0.005064</td>\n",
              "    </tr>\n",
              "    <tr>\n",
              "      <th>perc_premium_paid_by_cash_credit</th>\n",
              "      <td>-0.004833</td>\n",
              "      <td>1.000000</td>\n",
              "      <td>-0.259131</td>\n",
              "      <td>-0.031868</td>\n",
              "      <td>0.214470</td>\n",
              "      <td>0.214951</td>\n",
              "      <td>0.168125</td>\n",
              "      <td>-0.142670</td>\n",
              "      <td>-0.152837</td>\n",
              "      <td>-0.240980</td>\n",
              "    </tr>\n",
              "    <tr>\n",
              "      <th>age_in_days</th>\n",
              "      <td>0.005184</td>\n",
              "      <td>-0.259131</td>\n",
              "      <td>1.000000</td>\n",
              "      <td>0.029308</td>\n",
              "      <td>-0.058366</td>\n",
              "      <td>-0.072731</td>\n",
              "      <td>-0.059407</td>\n",
              "      <td>0.049888</td>\n",
              "      <td>0.176544</td>\n",
              "      <td>0.095103</td>\n",
              "    </tr>\n",
              "    <tr>\n",
              "      <th>Income</th>\n",
              "      <td>-0.001798</td>\n",
              "      <td>-0.031868</td>\n",
              "      <td>0.029308</td>\n",
              "      <td>1.000000</td>\n",
              "      <td>-0.001403</td>\n",
              "      <td>-0.017347</td>\n",
              "      <td>-0.012399</td>\n",
              "      <td>0.085746</td>\n",
              "      <td>0.079078</td>\n",
              "      <td>0.016541</td>\n",
              "    </tr>\n",
              "    <tr>\n",
              "      <th>Count_3-6_months_late</th>\n",
              "      <td>-0.005660</td>\n",
              "      <td>0.214470</td>\n",
              "      <td>-0.058366</td>\n",
              "      <td>-0.001403</td>\n",
              "      <td>1.000000</td>\n",
              "      <td>0.204228</td>\n",
              "      <td>0.296085</td>\n",
              "      <td>-0.082781</td>\n",
              "      <td>0.075828</td>\n",
              "      <td>-0.248900</td>\n",
              "    </tr>\n",
              "    <tr>\n",
              "      <th>Count_6-12_months_late</th>\n",
              "      <td>-0.002125</td>\n",
              "      <td>0.214951</td>\n",
              "      <td>-0.072731</td>\n",
              "      <td>-0.017347</td>\n",
              "      <td>0.204228</td>\n",
              "      <td>1.000000</td>\n",
              "      <td>0.266306</td>\n",
              "      <td>0.004785</td>\n",
              "      <td>-0.093133</td>\n",
              "      <td>-0.286159</td>\n",
              "    </tr>\n",
              "    <tr>\n",
              "      <th>Count_more_than_12_months_late</th>\n",
              "      <td>0.003424</td>\n",
              "      <td>0.168125</td>\n",
              "      <td>-0.059407</td>\n",
              "      <td>-0.012399</td>\n",
              "      <td>0.296085</td>\n",
              "      <td>0.266306</td>\n",
              "      <td>1.000000</td>\n",
              "      <td>-0.031726</td>\n",
              "      <td>-0.021848</td>\n",
              "      <td>-0.240385</td>\n",
              "    </tr>\n",
              "    <tr>\n",
              "      <th>application_underwriting_score</th>\n",
              "      <td>-0.002124</td>\n",
              "      <td>-0.142670</td>\n",
              "      <td>0.049888</td>\n",
              "      <td>0.085746</td>\n",
              "      <td>-0.082781</td>\n",
              "      <td>0.004785</td>\n",
              "      <td>-0.031726</td>\n",
              "      <td>1.000000</td>\n",
              "      <td>-0.270864</td>\n",
              "      <td>0.068715</td>\n",
              "    </tr>\n",
              "    <tr>\n",
              "      <th>no_of_premiums_paid</th>\n",
              "      <td>-0.003328</td>\n",
              "      <td>-0.152837</td>\n",
              "      <td>0.176544</td>\n",
              "      <td>0.079078</td>\n",
              "      <td>0.075828</td>\n",
              "      <td>-0.093133</td>\n",
              "      <td>-0.021848</td>\n",
              "      <td>-0.270864</td>\n",
              "      <td>1.000000</td>\n",
              "      <td>0.022664</td>\n",
              "    </tr>\n",
              "    <tr>\n",
              "      <th>target</th>\n",
              "      <td>-0.005064</td>\n",
              "      <td>-0.240980</td>\n",
              "      <td>0.095103</td>\n",
              "      <td>0.016541</td>\n",
              "      <td>-0.248900</td>\n",
              "      <td>-0.286159</td>\n",
              "      <td>-0.240385</td>\n",
              "      <td>0.068715</td>\n",
              "      <td>0.022664</td>\n",
              "      <td>1.000000</td>\n",
              "    </tr>\n",
              "  </tbody>\n",
              "</table>\n",
              "</div>"
            ],
            "text/plain": [
              "                                        id  ...    target\n",
              "id                                1.000000  ... -0.005064\n",
              "perc_premium_paid_by_cash_credit -0.004833  ... -0.240980\n",
              "age_in_days                       0.005184  ...  0.095103\n",
              "Income                           -0.001798  ...  0.016541\n",
              "Count_3-6_months_late            -0.005660  ... -0.248900\n",
              "Count_6-12_months_late           -0.002125  ... -0.286159\n",
              "Count_more_than_12_months_late    0.003424  ... -0.240385\n",
              "application_underwriting_score   -0.002124  ...  0.068715\n",
              "no_of_premiums_paid              -0.003328  ...  0.022664\n",
              "target                           -0.005064  ...  1.000000\n",
              "\n",
              "[10 rows x 10 columns]"
            ]
          },
          "metadata": {
            "tags": []
          },
          "execution_count": 40
        }
      ]
    },
    {
      "cell_type": "code",
      "metadata": {
        "id": "FwsQx8y66wMX",
        "colab": {
          "base_uri": "https://localhost:8080/",
          "height": 296
        },
        "outputId": "4a6402a8-2766-49de-b728-8c5d9f746009"
      },
      "source": [
        "data.plot.scatter(\"target\", \"perc_premium_paid_by_cash_credit\")"
      ],
      "execution_count": 41,
      "outputs": [
        {
          "output_type": "execute_result",
          "data": {
            "text/plain": [
              "<matplotlib.axes._subplots.AxesSubplot at 0x7fe28d1e7d50>"
            ]
          },
          "metadata": {
            "tags": []
          },
          "execution_count": 41
        },
        {
          "output_type": "display_data",
          "data": {
            "image/png": "[encoded data removed]",
            "text/plain": [
              "<Figure size 432x288 with 1 Axes>"
            ]
          },
          "metadata": {
            "tags": [],
            "needs_background": "light"
          }
        }
      ]
    },
    {
      "cell_type": "code",
      "metadata": {
        "id": "z56xlBgP6wMY",
        "colab": {
          "base_uri": "https://localhost:8080/"
        },
        "outputId": "218ff133-bf10-49e5-926c-5f7255868ce2"
      },
      "source": [
        "data[\"target\"].corr(data[\"perc_premium_paid_by_cash_credit\"])"
      ],
      "execution_count": 42,
      "outputs": [
        {
          "output_type": "execute_result",
          "data": {
            "text/plain": [
              "-0.24098021041593862"
            ]
          },
          "metadata": {
            "tags": []
          },
          "execution_count": 42
        }
      ]
    },
    {
      "cell_type": "code",
      "metadata": {
        "colab": {
          "base_uri": "https://localhost:8080/",
          "height": 296
        },
        "id": "CfizYPfj6wMY",
        "outputId": "3e4d9854-2447-49c1-cb05-e3acc9835218"
      },
      "source": [
        "data.plot.scatter(\"target\", \"age_in_days\")"
      ],
      "execution_count": 43,
      "outputs": [
        {
          "output_type": "execute_result",
          "data": {
            "text/plain": [
              "<matplotlib.axes._subplots.AxesSubplot at 0x7fe28d0b1d50>"
            ]
          },
          "metadata": {
            "tags": []
          },
          "execution_count": 43
        },
        {
          "output_type": "display_data",
          "data": {
            "image/png": "[encoded data removed]",
            "text/plain": [
              "<Figure size 432x288 with 1 Axes>"
            ]
          },
          "metadata": {
            "tags": [],
            "needs_background": "light"
          }
        }
      ]
    },
    {
      "cell_type": "code",
      "metadata": {
        "colab": {
          "base_uri": "https://localhost:8080/"
        },
        "id": "4_hBCPZD6wMZ",
        "outputId": "23ac327c-b80a-463d-84ee-3eb5ad888237"
      },
      "source": [
        "data[\"target\"].corr(data[\"age_in_days\"])"
      ],
      "execution_count": 44,
      "outputs": [
        {
          "output_type": "execute_result",
          "data": {
            "text/plain": [
              "0.09510293071935433"
            ]
          },
          "metadata": {
            "tags": []
          },
          "execution_count": 44
        }
      ]
    },
    {
      "cell_type": "code",
      "metadata": {
        "colab": {
          "base_uri": "https://localhost:8080/",
          "height": 307
        },
        "id": "mpBRDwXM6wMZ",
        "outputId": "b2c09285-80a2-4c91-b944-fb90315a50f6"
      },
      "source": [
        "data.plot.scatter(\"target\", \"Income\")"
      ],
      "execution_count": 45,
      "outputs": [
        {
          "output_type": "execute_result",
          "data": {
            "text/plain": [
              "<matplotlib.axes._subplots.AxesSubplot at 0x7fe28d027450>"
            ]
          },
          "metadata": {
            "tags": []
          },
          "execution_count": 45
        },
        {
          "output_type": "display_data",
          "data": {
            "image/png": "[encoded data removed]",
            "text/plain": [
              "<Figure size 432x288 with 1 Axes>"
            ]
          },
          "metadata": {
            "tags": [],
            "needs_background": "light"
          }
        }
      ]
    },
    {
      "cell_type": "code",
      "metadata": {
        "colab": {
          "base_uri": "https://localhost:8080/"
        },
        "id": "Jqrvf5bP6wMa",
        "outputId": "a6a5c7d9-dbea-4502-984c-6e4450044329"
      },
      "source": [
        "data[\"target\"].corr(data[\"Income\"])"
      ],
      "execution_count": 46,
      "outputs": [
        {
          "output_type": "execute_result",
          "data": {
            "text/plain": [
              "0.016541208055675046"
            ]
          },
          "metadata": {
            "tags": []
          },
          "execution_count": 46
        }
      ]
    },
    {
      "cell_type": "code",
      "metadata": {
        "colab": {
          "base_uri": "https://localhost:8080/",
          "height": 296
        },
        "id": "n3asQELg6wMa",
        "outputId": "836fd96e-dbe7-47bf-890d-03f14fee4e56"
      },
      "source": [
        "data.plot.scatter(\"target\", \"application_underwriting_score\")"
      ],
      "execution_count": 47,
      "outputs": [
        {
          "output_type": "execute_result",
          "data": {
            "text/plain": [
              "<matplotlib.axes._subplots.AxesSubplot at 0x7fe28cf91d10>"
            ]
          },
          "metadata": {
            "tags": []
          },
          "execution_count": 47
        },
        {
          "output_type": "display_data",
          "data": {
            "image/png": "[encoded data removed]",
            "text/plain": [
              "<Figure size 432x288 with 1 Axes>"
            ]
          },
          "metadata": {
            "tags": [],
            "needs_background": "light"
          }
        }
      ]
    },
    {
      "cell_type": "code",
      "metadata": {
        "colab": {
          "base_uri": "https://localhost:8080/"
        },
        "id": "3kPJU_yb6wMb",
        "outputId": "d1e85184-1a7c-4982-be3b-ed0d49d58ab7"
      },
      "source": [
        "data[\"target\"].corr(data[\"application_underwriting_score\"])"
      ],
      "execution_count": 48,
      "outputs": [
        {
          "output_type": "execute_result",
          "data": {
            "text/plain": [
              "0.06871504317180867"
            ]
          },
          "metadata": {
            "tags": []
          },
          "execution_count": 48
        }
      ]
    },
    {
      "cell_type": "code",
      "metadata": {
        "colab": {
          "base_uri": "https://localhost:8080/",
          "height": 296
        },
        "id": "58M50ba46wMc",
        "outputId": "18da1d97-f37c-4fed-cec3-d16fbe9e37f0"
      },
      "source": [
        "data.plot.scatter(\"target\", \"no_of_premiums_paid\")"
      ],
      "execution_count": 49,
      "outputs": [
        {
          "output_type": "execute_result",
          "data": {
            "text/plain": [
              "<matplotlib.axes._subplots.AxesSubplot at 0x7fe28cf7c4d0>"
            ]
          },
          "metadata": {
            "tags": []
          },
          "execution_count": 49
        },
        {
          "output_type": "display_data",
          "data": {
            "image/png": "[encoded data removed]",
            "text/plain": [
              "<Figure size 432x288 with 1 Axes>"
            ]
          },
          "metadata": {
            "tags": [],
            "needs_background": "light"
          }
        }
      ]
    },
    {
      "cell_type": "code",
      "metadata": {
        "colab": {
          "base_uri": "https://localhost:8080/"
        },
        "id": "6hiMjzmd6wMc",
        "outputId": "c1d35c1e-858e-42d0-d0b7-90142c84d621"
      },
      "source": [
        "data[\"target\"].corr(data[\"no_of_premiums_paid\"])"
      ],
      "execution_count": 50,
      "outputs": [
        {
          "output_type": "execute_result",
          "data": {
            "text/plain": [
              "0.022664269329842984"
            ]
          },
          "metadata": {
            "tags": []
          },
          "execution_count": 50
        }
      ]
    },
    {
      "cell_type": "markdown",
      "metadata": {
        "id": "oXreYwAU6wMd"
      },
      "source": [
        "### Continuous-Categorical Bivariate Analysis\n"
      ]
    },
    {
      "cell_type": "code",
      "metadata": {
        "colab": {
          "base_uri": "https://localhost:8080/"
        },
        "id": "-O23HLUW6wMd",
        "outputId": "c8382b5f-6a3e-4ebd-a2a5-1c9dfd5178f4"
      },
      "source": [
        "data.groupby(\"sourcing_channel\")[\"target\"].mean()"
      ],
      "execution_count": 51,
      "outputs": [
        {
          "output_type": "execute_result",
          "data": {
            "text/plain": [
              "sourcing_channel\n",
              "A    0.945542\n",
              "B    0.935441\n",
              "C    0.924994\n",
              "D    0.916126\n",
              "E    0.924466\n",
              "Name: target, dtype: float64"
            ]
          },
          "metadata": {
            "tags": []
          },
          "execution_count": 51
        }
      ]
    },
    {
      "cell_type": "code",
      "metadata": {
        "colab": {
          "base_uri": "https://localhost:8080/",
          "height": 295
        },
        "id": "ipoQkENg6wMe",
        "outputId": "e9bbeef5-3932-47fc-a784-9df82533d273"
      },
      "source": [
        "data.groupby(\"sourcing_channel\")[\"target\"].mean().plot.bar()"
      ],
      "execution_count": 52,
      "outputs": [
        {
          "output_type": "execute_result",
          "data": {
            "text/plain": [
              "<matplotlib.axes._subplots.AxesSubplot at 0x7fe28ceec490>"
            ]
          },
          "metadata": {
            "tags": []
          },
          "execution_count": 52
        },
        {
          "output_type": "display_data",
          "data": {
            "image/png": "[encoded data removed]",
            "text/plain": [
              "<Figure size 432x288 with 1 Axes>"
            ]
          },
          "metadata": {
            "tags": [],
            "needs_background": "light"
          }
        }
      ]
    },
    {
      "cell_type": "markdown",
      "metadata": {
        "id": "rOuC5Jx86wMe"
      },
      "source": [
        "Here, it is evident that if a customer will pay their premium or not is not much affected by the sourcing channel they use."
      ]
    },
    {
      "cell_type": "code",
      "metadata": {
        "colab": {
          "base_uri": "https://localhost:8080/"
        },
        "id": "XhLyi6Fn6wMf",
        "outputId": "9f050e95-6ff4-4313-bcad-1b898832111f"
      },
      "source": [
        "data.groupby(\"residence_area_type\")[\"target\"].mean()"
      ],
      "execution_count": 53,
      "outputs": [
        {
          "output_type": "execute_result",
          "data": {
            "text/plain": [
              "residence_area_type\n",
              "Rural    0.936912\n",
              "Urban    0.937737\n",
              "Name: target, dtype: float64"
            ]
          },
          "metadata": {
            "tags": []
          },
          "execution_count": 53
        }
      ]
    },
    {
      "cell_type": "code",
      "metadata": {
        "colab": {
          "base_uri": "https://localhost:8080/",
          "height": 317
        },
        "id": "4j6kW5cg6wMf",
        "outputId": "5fa0d7a5-30c7-41e5-e33d-b18a76f4d4d3"
      },
      "source": [
        "data.groupby(\"residence_area_type\")[\"target\"].mean().plot.bar()"
      ],
      "execution_count": 54,
      "outputs": [
        {
          "output_type": "execute_result",
          "data": {
            "text/plain": [
              "<matplotlib.axes._subplots.AxesSubplot at 0x7fe28cf62390>"
            ]
          },
          "metadata": {
            "tags": []
          },
          "execution_count": 54
        },
        {
          "output_type": "display_data",
          "data": {
            "image/png": "[encoded data removed]",
            "text/plain": [
              "<Figure size 432x288 with 1 Axes>"
            ]
          },
          "metadata": {
            "tags": [],
            "needs_background": "light"
          }
        }
      ]
    },
    {
      "cell_type": "code",
      "metadata": {
        "colab": {
          "base_uri": "https://localhost:8080/"
        },
        "id": "EThFPpYv6wMg",
        "outputId": "b0461034-2245-4e4c-b400-8dac21901301"
      },
      "source": [
        "data.groupby(\"Count_3-6_months_late\")[\"target\"].mean()"
      ],
      "execution_count": 55,
      "outputs": [
        {
          "output_type": "execute_result",
          "data": {
            "text/plain": [
              "Count_3-6_months_late\n",
              "0.0     0.960674\n",
              "1.0     0.869363\n",
              "2.0     0.764986\n",
              "3.0     0.698113\n",
              "4.0     0.577540\n",
              "5.0     0.601190\n",
              "6.0     0.544118\n",
              "7.0     0.565217\n",
              "8.0     0.600000\n",
              "9.0     0.500000\n",
              "10.0    0.000000\n",
              "11.0    0.000000\n",
              "12.0    0.000000\n",
              "13.0    0.000000\n",
              "Name: target, dtype: float64"
            ]
          },
          "metadata": {
            "tags": []
          },
          "execution_count": 55
        }
      ]
    },
    {
      "cell_type": "code",
      "metadata": {
        "colab": {
          "base_uri": "https://localhost:8080/",
          "height": 312
        },
        "id": "TMc62YxU6wMg",
        "outputId": "c48c6292-8be9-451e-a87b-9e9ae7c7166b"
      },
      "source": [
        "data.groupby(\"Count_3-6_months_late\")[\"target\"].mean().plot.bar()"
      ],
      "execution_count": 56,
      "outputs": [
        {
          "output_type": "execute_result",
          "data": {
            "text/plain": [
              "<matplotlib.axes._subplots.AxesSubplot at 0x7fe28ce38d50>"
            ]
          },
          "metadata": {
            "tags": []
          },
          "execution_count": 56
        },
        {
          "output_type": "display_data",
          "data": {
            "image/png": "[encoded data removed]",
            "text/plain": [
              "<Figure size 432x288 with 1 Axes>"
            ]
          },
          "metadata": {
            "tags": [],
            "needs_background": "light"
          }
        }
      ]
    },
    {
      "cell_type": "code",
      "metadata": {
        "colab": {
          "base_uri": "https://localhost:8080/"
        },
        "id": "jZycmC9j6wMh",
        "outputId": "39592970-0b73-4121-f8f1-72670590d078"
      },
      "source": [
        "data.groupby(\"Count_6-12_months_late\")[\"target\"].mean()"
      ],
      "execution_count": 57,
      "outputs": [
        {
          "output_type": "execute_result",
          "data": {
            "text/plain": [
              "Count_6-12_months_late\n",
              "0.0     0.954570\n",
              "1.0     0.691045\n",
              "2.0     0.518038\n",
              "3.0     0.416404\n",
              "4.0     0.346154\n",
              "5.0     0.347826\n",
              "6.0     0.500000\n",
              "7.0     0.363636\n",
              "8.0     0.400000\n",
              "9.0     0.500000\n",
              "10.0    0.750000\n",
              "11.0    0.500000\n",
              "12.0    0.000000\n",
              "13.0    0.500000\n",
              "14.0    0.500000\n",
              "15.0    1.000000\n",
              "17.0    0.000000\n",
              "Name: target, dtype: float64"
            ]
          },
          "metadata": {
            "tags": []
          },
          "execution_count": 57
        }
      ]
    },
    {
      "cell_type": "code",
      "metadata": {
        "colab": {
          "base_uri": "https://localhost:8080/",
          "height": 309
        },
        "id": "Onar8Sqc6wMi",
        "outputId": "c7a193ff-4f00-4eb7-9971-2d78be458099"
      },
      "source": [
        "data.groupby(\"Count_6-12_months_late\")[\"target\"].mean().plot.bar()"
      ],
      "execution_count": 58,
      "outputs": [
        {
          "output_type": "execute_result",
          "data": {
            "text/plain": [
              "<matplotlib.axes._subplots.AxesSubplot at 0x7fe28cd6c2d0>"
            ]
          },
          "metadata": {
            "tags": []
          },
          "execution_count": 58
        },
        {
          "output_type": "display_data",
          "data": {
            "image/png": "[encoded data removed]",
            "text/plain": [
              "<Figure size 432x288 with 1 Axes>"
            ]
          },
          "metadata": {
            "tags": [],
            "needs_background": "light"
          }
        }
      ]
    },
    {
      "cell_type": "code",
      "metadata": {
        "colab": {
          "base_uri": "https://localhost:8080/"
        },
        "id": "P2qWrNlS6wMi",
        "outputId": "bbf9d522-8b97-45af-8199-9361b046e297"
      },
      "source": [
        "data.groupby(\"Count_more_than_12_months_late\")[\"target\"].mean()"
      ],
      "execution_count": 59,
      "outputs": [
        {
          "output_type": "execute_result",
          "data": {
            "text/plain": [
              "Count_more_than_12_months_late\n",
              "0.0     0.950683\n",
              "1.0     0.721295\n",
              "2.0     0.542169\n",
              "3.0     0.437086\n",
              "4.0     0.479167\n",
              "5.0     0.461538\n",
              "6.0     0.333333\n",
              "7.0     0.333333\n",
              "8.0     0.500000\n",
              "11.0    0.000000\n",
              "Name: target, dtype: float64"
            ]
          },
          "metadata": {
            "tags": []
          },
          "execution_count": 59
        }
      ]
    },
    {
      "cell_type": "code",
      "metadata": {
        "colab": {
          "base_uri": "https://localhost:8080/",
          "height": 309
        },
        "id": "tIJvlBDz6wMj",
        "outputId": "b41b566a-fa99-4d81-9cab-2d0b10038690"
      },
      "source": [
        "data.groupby(\"Count_more_than_12_months_late\")[\"target\"].mean().plot.bar()"
      ],
      "execution_count": 60,
      "outputs": [
        {
          "output_type": "execute_result",
          "data": {
            "text/plain": [
              "<matplotlib.axes._subplots.AxesSubplot at 0x7fe28ccb8690>"
            ]
          },
          "metadata": {
            "tags": []
          },
          "execution_count": 60
        },
        {
          "output_type": "display_data",
          "data": {
            "image/png": "[encoded data removed]",
            "text/plain": [
              "<Figure size 432x288 with 1 Axes>"
            ]
          },
          "metadata": {
            "tags": [],
            "needs_background": "light"
          }
        }
      ]
    },
    {
      "cell_type": "markdown",
      "metadata": {
        "id": "qVeuBeXt6wMk"
      },
      "source": [
        "# Missng Value Treatment"
      ]
    },
    {
      "cell_type": "code",
      "metadata": {
        "colab": {
          "base_uri": "https://localhost:8080/"
        },
        "id": "SgFJtuFb6wMk",
        "outputId": "4922ad6a-6184-4430-c3b8-c7a40c4aa750"
      },
      "source": [
        "data.isnull().sum()"
      ],
      "execution_count": 61,
      "outputs": [
        {
          "output_type": "execute_result",
          "data": {
            "text/plain": [
              "id                                     0\n",
              "perc_premium_paid_by_cash_credit       0\n",
              "age_in_days                            0\n",
              "Income                                 0\n",
              "Count_3-6_months_late                 97\n",
              "Count_6-12_months_late                97\n",
              "Count_more_than_12_months_late        97\n",
              "application_underwriting_score      2974\n",
              "no_of_premiums_paid                    0\n",
              "sourcing_channel                       0\n",
              "residence_area_type                    0\n",
              "target                                 0\n",
              "dtype: int64"
            ]
          },
          "metadata": {
            "tags": []
          },
          "execution_count": 61
        }
      ]
    },
    {
      "cell_type": "markdown",
      "metadata": {
        "id": "NnLNZS7W6wMl"
      },
      "source": [
        "### Here, we can see that Count_3-6_months_late, Count_6-12_months_late, Count_more_than_12_months_late have 97 missing values and application_underwriting_score has 2974 missing values."
      ]
    },
    {
      "cell_type": "markdown",
      "metadata": {
        "id": "7z3T7ZPn6wMl"
      },
      "source": [
        "Since we are treating the Count_3-6_months_late, Count_6-12_months_late, and Count_more_than_12_months_late as categorical values, we will be filling their missing values using mode, while application_writing_underscore's missing values will be filled by it's mean"
      ]
    },
    {
      "cell_type": "code",
      "metadata": {
        "id": "iVH92HOy6wMl"
      },
      "source": [
        "def null(df):\n",
        "    data['application_underwriting_score'].fillna(data['application_underwriting_score'].mean(),inplace=True)\n",
        "    data['Count_3-6_months_late'].fillna(0,inplace=True)\n",
        "    data['Count_6-12_months_late'].fillna(0,inplace=True)\n",
        "    data['Count_more_than_12_months_late'].fillna(0,inplace=True)\n",
        "    return df"
      ],
      "execution_count": 62,
      "outputs": []
    },
    {
      "cell_type": "code",
      "metadata": {
        "colab": {
          "base_uri": "https://localhost:8080/",
          "height": 456
        },
        "id": "NCQtwoGZ6wMm",
        "outputId": "e3b6823c-e320-49e1-bd37-b0545b40c2df"
      },
      "source": [
        "null(data)"
      ],
      "execution_count": 63,
      "outputs": [
        {
          "output_type": "execute_result",
          "data": {
            "text/html": [
              "<div>\n",
              "<style scoped>\n",
              "    .dataframe tbody tr th:only-of-type {\n",
              "        vertical-align: middle;\n",
              "    }\n",
              "\n",
              "    .dataframe tbody tr th {\n",
              "        vertical-align: top;\n",
              "    }\n",
              "\n",
              "    .dataframe thead th {\n",
              "        text-align: right;\n",
              "    }\n",
              "</style>\n",
              "<table border=\"1\" class=\"dataframe\">\n",
              "  <thead>\n",
              "    <tr style=\"text-align: right;\">\n",
              "      <th></th>\n",
              "      <th>id</th>\n",
              "      <th>perc_premium_paid_by_cash_credit</th>\n",
              "      <th>age_in_days</th>\n",
              "      <th>Income</th>\n",
              "      <th>Count_3-6_months_late</th>\n",
              "      <th>Count_6-12_months_late</th>\n",
              "      <th>Count_more_than_12_months_late</th>\n",
              "      <th>application_underwriting_score</th>\n",
              "      <th>no_of_premiums_paid</th>\n",
              "      <th>sourcing_channel</th>\n",
              "      <th>residence_area_type</th>\n",
              "      <th>target</th>\n",
              "    </tr>\n",
              "  </thead>\n",
              "  <tbody>\n",
              "    <tr>\n",
              "      <th>0</th>\n",
              "      <td>110936</td>\n",
              "      <td>0.429</td>\n",
              "      <td>12058</td>\n",
              "      <td>355060</td>\n",
              "      <td>0.0</td>\n",
              "      <td>0.0</td>\n",
              "      <td>0.0</td>\n",
              "      <td>99.02</td>\n",
              "      <td>13</td>\n",
              "      <td>C</td>\n",
              "      <td>Urban</td>\n",
              "      <td>1</td>\n",
              "    </tr>\n",
              "    <tr>\n",
              "      <th>1</th>\n",
              "      <td>41492</td>\n",
              "      <td>0.010</td>\n",
              "      <td>21546</td>\n",
              "      <td>315150</td>\n",
              "      <td>0.0</td>\n",
              "      <td>0.0</td>\n",
              "      <td>0.0</td>\n",
              "      <td>99.89</td>\n",
              "      <td>21</td>\n",
              "      <td>A</td>\n",
              "      <td>Urban</td>\n",
              "      <td>1</td>\n",
              "    </tr>\n",
              "    <tr>\n",
              "      <th>2</th>\n",
              "      <td>31300</td>\n",
              "      <td>0.917</td>\n",
              "      <td>17531</td>\n",
              "      <td>84140</td>\n",
              "      <td>2.0</td>\n",
              "      <td>3.0</td>\n",
              "      <td>1.0</td>\n",
              "      <td>98.69</td>\n",
              "      <td>7</td>\n",
              "      <td>C</td>\n",
              "      <td>Rural</td>\n",
              "      <td>0</td>\n",
              "    </tr>\n",
              "    <tr>\n",
              "      <th>3</th>\n",
              "      <td>19415</td>\n",
              "      <td>0.049</td>\n",
              "      <td>15341</td>\n",
              "      <td>250510</td>\n",
              "      <td>0.0</td>\n",
              "      <td>0.0</td>\n",
              "      <td>0.0</td>\n",
              "      <td>99.57</td>\n",
              "      <td>9</td>\n",
              "      <td>A</td>\n",
              "      <td>Urban</td>\n",
              "      <td>1</td>\n",
              "    </tr>\n",
              "    <tr>\n",
              "      <th>4</th>\n",
              "      <td>99379</td>\n",
              "      <td>0.052</td>\n",
              "      <td>31400</td>\n",
              "      <td>198680</td>\n",
              "      <td>0.0</td>\n",
              "      <td>0.0</td>\n",
              "      <td>0.0</td>\n",
              "      <td>99.87</td>\n",
              "      <td>12</td>\n",
              "      <td>B</td>\n",
              "      <td>Urban</td>\n",
              "      <td>1</td>\n",
              "    </tr>\n",
              "    <tr>\n",
              "      <th>...</th>\n",
              "      <td>...</td>\n",
              "      <td>...</td>\n",
              "      <td>...</td>\n",
              "      <td>...</td>\n",
              "      <td>...</td>\n",
              "      <td>...</td>\n",
              "      <td>...</td>\n",
              "      <td>...</td>\n",
              "      <td>...</td>\n",
              "      <td>...</td>\n",
              "      <td>...</td>\n",
              "      <td>...</td>\n",
              "    </tr>\n",
              "    <tr>\n",
              "      <th>79848</th>\n",
              "      <td>48057</td>\n",
              "      <td>0.425</td>\n",
              "      <td>23367</td>\n",
              "      <td>224550</td>\n",
              "      <td>1.0</td>\n",
              "      <td>0.0</td>\n",
              "      <td>0.0</td>\n",
              "      <td>98.70</td>\n",
              "      <td>19</td>\n",
              "      <td>B</td>\n",
              "      <td>Urban</td>\n",
              "      <td>1</td>\n",
              "    </tr>\n",
              "    <tr>\n",
              "      <th>79849</th>\n",
              "      <td>59012</td>\n",
              "      <td>0.704</td>\n",
              "      <td>19356</td>\n",
              "      <td>279150</td>\n",
              "      <td>1.0</td>\n",
              "      <td>0.0</td>\n",
              "      <td>1.0</td>\n",
              "      <td>99.42</td>\n",
              "      <td>12</td>\n",
              "      <td>A</td>\n",
              "      <td>Rural</td>\n",
              "      <td>1</td>\n",
              "    </tr>\n",
              "    <tr>\n",
              "      <th>79850</th>\n",
              "      <td>77050</td>\n",
              "      <td>0.000</td>\n",
              "      <td>23372</td>\n",
              "      <td>305020</td>\n",
              "      <td>0.0</td>\n",
              "      <td>0.0</td>\n",
              "      <td>0.0</td>\n",
              "      <td>98.89</td>\n",
              "      <td>12</td>\n",
              "      <td>A</td>\n",
              "      <td>Rural</td>\n",
              "      <td>1</td>\n",
              "    </tr>\n",
              "    <tr>\n",
              "      <th>79851</th>\n",
              "      <td>67225</td>\n",
              "      <td>0.398</td>\n",
              "      <td>22641</td>\n",
              "      <td>39330</td>\n",
              "      <td>0.0</td>\n",
              "      <td>0.0</td>\n",
              "      <td>0.0</td>\n",
              "      <td>98.68</td>\n",
              "      <td>8</td>\n",
              "      <td>A</td>\n",
              "      <td>Rural</td>\n",
              "      <td>1</td>\n",
              "    </tr>\n",
              "    <tr>\n",
              "      <th>79852</th>\n",
              "      <td>71531</td>\n",
              "      <td>0.550</td>\n",
              "      <td>15709</td>\n",
              "      <td>280140</td>\n",
              "      <td>1.0</td>\n",
              "      <td>0.0</td>\n",
              "      <td>1.0</td>\n",
              "      <td>99.84</td>\n",
              "      <td>8</td>\n",
              "      <td>A</td>\n",
              "      <td>Urban</td>\n",
              "      <td>0</td>\n",
              "    </tr>\n",
              "  </tbody>\n",
              "</table>\n",
              "<p>79853 rows × 12 columns</p>\n",
              "</div>"
            ],
            "text/plain": [
              "           id  perc_premium_paid_by_cash_credit  ...  residence_area_type  target\n",
              "0      110936                             0.429  ...                Urban       1\n",
              "1       41492                             0.010  ...                Urban       1\n",
              "2       31300                             0.917  ...                Rural       0\n",
              "3       19415                             0.049  ...                Urban       1\n",
              "4       99379                             0.052  ...                Urban       1\n",
              "...       ...                               ...  ...                  ...     ...\n",
              "79848   48057                             0.425  ...                Urban       1\n",
              "79849   59012                             0.704  ...                Rural       1\n",
              "79850   77050                             0.000  ...                Rural       1\n",
              "79851   67225                             0.398  ...                Rural       1\n",
              "79852   71531                             0.550  ...                Urban       0\n",
              "\n",
              "[79853 rows x 12 columns]"
            ]
          },
          "metadata": {
            "tags": []
          },
          "execution_count": 63
        }
      ]
    },
    {
      "cell_type": "code",
      "metadata": {
        "colab": {
          "base_uri": "https://localhost:8080/"
        },
        "id": "tKMWFZEu6wMn",
        "outputId": "5c3f1880-dd63-4a97-922d-c5095f73cbd3"
      },
      "source": [
        "data.isnull().sum()"
      ],
      "execution_count": 64,
      "outputs": [
        {
          "output_type": "execute_result",
          "data": {
            "text/plain": [
              "id                                  0\n",
              "perc_premium_paid_by_cash_credit    0\n",
              "age_in_days                         0\n",
              "Income                              0\n",
              "Count_3-6_months_late               0\n",
              "Count_6-12_months_late              0\n",
              "Count_more_than_12_months_late      0\n",
              "application_underwriting_score      0\n",
              "no_of_premiums_paid                 0\n",
              "sourcing_channel                    0\n",
              "residence_area_type                 0\n",
              "target                              0\n",
              "dtype: int64"
            ]
          },
          "metadata": {
            "tags": []
          },
          "execution_count": 64
        }
      ]
    },
    {
      "cell_type": "markdown",
      "metadata": {
        "id": "OT700nAY6wMn"
      },
      "source": [
        "We can see that no column has anymore missing values."
      ]
    },
    {
      "cell_type": "markdown",
      "metadata": {
        "id": "1t4hwrxsMjGb"
      },
      "source": [
        "# Univariate Outlier Detection."
      ]
    },
    {
      "cell_type": "markdown",
      "metadata": {
        "id": "b-ZNWRPbOnS3"
      },
      "source": [
        "Let's recall our list containing all columns containing outliers."
      ]
    },
    {
      "cell_type": "code",
      "metadata": {
        "colab": {
          "base_uri": "https://localhost:8080/"
        },
        "id": "_eospnXiLlfA",
        "outputId": "41a83de4-4323-43fd-c853-e203f29f393b"
      },
      "source": [
        "outliers_list"
      ],
      "execution_count": 65,
      "outputs": [
        {
          "output_type": "execute_result",
          "data": {
            "text/plain": [
              "['age_in_days',\n",
              " 'Income',\n",
              " 'application_underwriting_score',\n",
              " 'no_of_premiums_paid']"
            ]
          },
          "metadata": {
            "tags": []
          },
          "execution_count": 65
        }
      ]
    },
    {
      "cell_type": "markdown",
      "metadata": {
        "id": "fLBhfAb4T8cD"
      },
      "source": [
        "Let's start by calculating quantiles and IQRs for each column having outliers."
      ]
    },
    {
      "cell_type": "code",
      "metadata": {
        "colab": {
          "base_uri": "https://localhost:8080/"
        },
        "id": "WpRn32oKO2lv",
        "outputId": "c1586f00-4518-4e6f-e480-37ec786e5e52"
      },
      "source": [
        "q1 = int(data.age_in_days.quantile([0.25]))\n",
        "q3 = int(data.age_in_days.quantile([0.75]))\n",
        "IQR = q3 - q1\n",
        "upper_limit = int(q3+ 1.5 * IQR)\n",
        "lower_limit = int(q1 - 1.5 * IQR)\n",
        "print(\"Upper limit is {} and lower limit is {}.\".format(upper_limit,lower_limit))"
      ],
      "execution_count": 66,
      "outputs": [
        {
          "output_type": "stream",
          "text": [
            "Upper limit is 34129 and lower limit is 3481.\n"
          ],
          "name": "stdout"
        }
      ]
    },
    {
      "cell_type": "code",
      "metadata": {
        "id": "cZEb2AwDXFsM"
      },
      "source": [
        "data.loc[data[\"age_in_days\"]>upper_limit, \"age_in_days\"] = np.mean(data[\"age_in_days\"])"
      ],
      "execution_count": 67,
      "outputs": []
    },
    {
      "cell_type": "code",
      "metadata": {
        "id": "ZzjL-u13XYJK"
      },
      "source": [
        "data.loc[data[\"age_in_days\"]<lower_limit, \"age_in_days\"] = np.mean(data[\"age_in_days\"])"
      ],
      "execution_count": 68,
      "outputs": []
    },
    {
      "cell_type": "code",
      "metadata": {
        "colab": {
          "base_uri": "https://localhost:8080/",
          "height": 285
        },
        "id": "9-3V4qnfRcB2",
        "outputId": "a259504f-9e05-4559-f69f-b55d68a687ad"
      },
      "source": [
        "data[\"age_in_days\"].plot.box()"
      ],
      "execution_count": 69,
      "outputs": [
        {
          "output_type": "execute_result",
          "data": {
            "text/plain": [
              "<matplotlib.axes._subplots.AxesSubplot at 0x7fe28cbec750>"
            ]
          },
          "metadata": {
            "tags": []
          },
          "execution_count": 69
        },
        {
          "output_type": "display_data",
          "data": {
            "image/png": "[encoded data removed]",
            "text/plain": [
              "<Figure size 432x288 with 1 Axes>"
            ]
          },
          "metadata": {
            "tags": [],
            "needs_background": "light"
          }
        }
      ]
    },
    {
      "cell_type": "code",
      "metadata": {
        "colab": {
          "base_uri": "https://localhost:8080/"
        },
        "id": "sPruJh10RgNr",
        "outputId": "38a18e5e-f82d-4660-f5f1-2050449ea4ca"
      },
      "source": [
        "q1 = int(data.Income.quantile(0.25))\n",
        "q3 = int(data.Income.quantile(0.75))\n",
        "IQR = q3 - q1\n",
        "upper_limit = int(q3+ 1.5 * IQR)\n",
        "lower_limit = int(q1 - 1.5 * IQR)\n",
        "print(\"Upper limit is {} and lower limit is {}.\".format(upper_limit,lower_limit))"
      ],
      "execution_count": 70,
      "outputs": [
        {
          "output_type": "stream",
          "text": [
            "Upper limit is 468210 and lower limit is -108110.\n"
          ],
          "name": "stdout"
        }
      ]
    },
    {
      "cell_type": "code",
      "metadata": {
        "id": "YcIrgBm9RuOU"
      },
      "source": [
        "data.loc[data[\"Income\"]>upper_limit, \"Income\"] = np.mean(data[\"Income\"])"
      ],
      "execution_count": 71,
      "outputs": []
    },
    {
      "cell_type": "code",
      "metadata": {
        "id": "SSwJUK-6R7OG"
      },
      "source": [
        "data.loc[data[\"Income\"]<lower_limit, \"Income\"] = np.mean(data[\"Income\"])"
      ],
      "execution_count": 72,
      "outputs": []
    },
    {
      "cell_type": "code",
      "metadata": {
        "colab": {
          "base_uri": "https://localhost:8080/",
          "height": 282
        },
        "id": "xUGflnEMX-eC",
        "outputId": "1616693b-ea5b-4724-f046-614d94f593d7"
      },
      "source": [
        "data[\"Income\"].plot.box()"
      ],
      "execution_count": 73,
      "outputs": [
        {
          "output_type": "execute_result",
          "data": {
            "text/plain": [
              "<matplotlib.axes._subplots.AxesSubplot at 0x7fe28b96fc50>"
            ]
          },
          "metadata": {
            "tags": []
          },
          "execution_count": 73
        },
        {
          "output_type": "display_data",
          "data": {
            "image/png": "[encoded data removed]",
            "text/plain": [
              "<Figure size 432x288 with 1 Axes>"
            ]
          },
          "metadata": {
            "tags": [],
            "needs_background": "light"
          }
        }
      ]
    },
    {
      "cell_type": "code",
      "metadata": {
        "colab": {
          "base_uri": "https://localhost:8080/"
        },
        "id": "wfUyHd8IYA9N",
        "outputId": "8ba5abc2-e043-485a-ba16-b615c638b2b7"
      },
      "source": [
        "q1 = int(data.application_underwriting_score.quantile(0.25))\n",
        "q3 = int(data.application_underwriting_score.quantile(0.75))\n",
        "IQR = q3 - q1\n",
        "upper_limit = int(q3+ 1.5 * IQR)\n",
        "lower_limit = int(q1 - 1.5 * IQR)\n",
        "print(\"Upper limit is {} and lower limit is {}.\".format(upper_limit,lower_limit))"
      ],
      "execution_count": 74,
      "outputs": [
        {
          "output_type": "stream",
          "text": [
            "Upper limit is 100 and lower limit is 96.\n"
          ],
          "name": "stdout"
        }
      ]
    },
    {
      "cell_type": "markdown",
      "metadata": {
        "id": "ZUVcuOk0ec4z"
      },
      "source": [
        "Looking at the consistency of data in the column \"application_underwriting_score\", I think it is better to leave it like this."
      ]
    },
    {
      "cell_type": "code",
      "metadata": {
        "colab": {
          "base_uri": "https://localhost:8080/"
        },
        "id": "8W3UU_dgYtf4",
        "outputId": "7895bf1e-71cd-49d8-a283-ccf2f81ef9f6"
      },
      "source": [
        "q1 = int(data.no_of_premiums_paid.quantile(0.25))\n",
        "q3 = int(data.no_of_premiums_paid.quantile(0.75))\n",
        "IQR = q3 - q1\n",
        "upper_limit = int(q3+ 1.5 * IQR)\n",
        "lower_limit = int(q1 - 1.5 * IQR)\n",
        "print(\"Upper limit is {} and lower limit is {}.\".format(upper_limit,lower_limit))"
      ],
      "execution_count": 75,
      "outputs": [
        {
          "output_type": "stream",
          "text": [
            "Upper limit is 24 and lower limit is -3.\n"
          ],
          "name": "stdout"
        }
      ]
    },
    {
      "cell_type": "code",
      "metadata": {
        "id": "gCi_i0ToaMWM"
      },
      "source": [
        "data.loc[data[\"no_of_premiums_paid\"]>upper_limit, \"no_of_premiums_paid\"] = np.mean(data[\"no_of_premiums_paid\"])"
      ],
      "execution_count": 76,
      "outputs": []
    },
    {
      "cell_type": "code",
      "metadata": {
        "id": "MjmL5Ab2eOXw"
      },
      "source": [
        "data.loc[data[\"no_of_premiums_paid\"]<lower_limit, \"no_of_premiums_paid\"] = np.mean(data[\"no_of_premiums_paid\"])"
      ],
      "execution_count": 77,
      "outputs": []
    },
    {
      "cell_type": "code",
      "metadata": {
        "colab": {
          "base_uri": "https://localhost:8080/",
          "height": 286
        },
        "id": "teqqrsezeRil",
        "outputId": "39025449-11de-4bb1-e91a-afd71ba369e7"
      },
      "source": [
        "data[\"no_of_premiums_paid\"].plot.box()"
      ],
      "execution_count": 78,
      "outputs": [
        {
          "output_type": "execute_result",
          "data": {
            "text/plain": [
              "<matplotlib.axes._subplots.AxesSubplot at 0x7fe28b89a0d0>"
            ]
          },
          "metadata": {
            "tags": []
          },
          "execution_count": 78
        },
        {
          "output_type": "display_data",
          "data": {
            "image/png": "[encoded data removed]",
            "text/plain": [
              "<Figure size 432x288 with 1 Axes>"
            ]
          },
          "metadata": {
            "tags": [],
            "needs_background": "light"
          }
        }
      ]
    },
    {
      "cell_type": "markdown",
      "metadata": {
        "id": "mwCmKJiyfQfM"
      },
      "source": [
        "We still have two outlying data points. Let's fix that by setting upper-limit = 22."
      ]
    },
    {
      "cell_type": "code",
      "metadata": {
        "id": "ydxN2yekfJcD"
      },
      "source": [
        "data.loc[data[\"no_of_premiums_paid\"]>22 ,\"no_of_premiums_paid\"] = np.mean(data[\"no_of_premiums_paid\"])"
      ],
      "execution_count": 79,
      "outputs": []
    },
    {
      "cell_type": "code",
      "metadata": {
        "colab": {
          "base_uri": "https://localhost:8080/",
          "height": 283
        },
        "id": "fB94AwzvfboH",
        "outputId": "2fe3acf5-10e8-4f93-f2f7-b950a712b15d"
      },
      "source": [
        "data[\"no_of_premiums_paid\"].plot.box()"
      ],
      "execution_count": 80,
      "outputs": [
        {
          "output_type": "execute_result",
          "data": {
            "text/plain": [
              "<matplotlib.axes._subplots.AxesSubplot at 0x7fe28b879710>"
            ]
          },
          "metadata": {
            "tags": []
          },
          "execution_count": 80
        },
        {
          "output_type": "display_data",
          "data": {
            "image/png": "[encoded data removed]",
            "text/plain": [
              "<Figure size 432x288 with 1 Axes>"
            ]
          },
          "metadata": {
            "tags": [],
            "needs_background": "light"
          }
        }
      ]
    },
    {
      "cell_type": "markdown",
      "metadata": {
        "id": "OTwhD5IYm4da"
      },
      "source": [
        "# Variable Transformation"
      ]
    },
    {
      "cell_type": "code",
      "metadata": {
        "colab": {
          "base_uri": "https://localhost:8080/",
          "height": 282
        },
        "id": "Rt4QWyO8fix0",
        "outputId": "1b527094-97cb-4169-ff47-5f82cef47217"
      },
      "source": [
        "data[\"age_in_days\"].plot.hist()"
      ],
      "execution_count": 81,
      "outputs": [
        {
          "output_type": "execute_result",
          "data": {
            "text/plain": [
              "<matplotlib.axes._subplots.AxesSubplot at 0x7fe28b7dc890>"
            ]
          },
          "metadata": {
            "tags": []
          },
          "execution_count": 81
        },
        {
          "output_type": "display_data",
          "data": {
            "image/png": "[encoded data removed]",
            "text/plain": [
              "<Figure size 432x288 with 1 Axes>"
            ]
          },
          "metadata": {
            "tags": [],
            "needs_background": "light"
          }
        }
      ]
    },
    {
      "cell_type": "code",
      "metadata": {
        "colab": {
          "base_uri": "https://localhost:8080/",
          "height": 282
        },
        "id": "NdKXXcE9iejB",
        "outputId": "916f93a1-0cb0-44b0-c384-66871aad1c55"
      },
      "source": [
        "np.log(data[\"age_in_days\"]).plot.hist()"
      ],
      "execution_count": 82,
      "outputs": [
        {
          "output_type": "execute_result",
          "data": {
            "text/plain": [
              "<matplotlib.axes._subplots.AxesSubplot at 0x7fe28cf6b4d0>"
            ]
          },
          "metadata": {
            "tags": []
          },
          "execution_count": 82
        },
        {
          "output_type": "display_data",
          "data": {
            "image/png": "[encoded data removed]",
            "text/plain": [
              "<Figure size 432x288 with 1 Axes>"
            ]
          },
          "metadata": {
            "tags": [],
            "needs_background": "light"
          }
        }
      ]
    },
    {
      "cell_type": "markdown",
      "metadata": {
        "id": "1PY4P4bCm9jS"
      },
      "source": [
        "Log transformation gives us a more symmteric curve."
      ]
    },
    {
      "cell_type": "code",
      "metadata": {
        "colab": {
          "base_uri": "https://localhost:8080/",
          "height": 282
        },
        "id": "yt44nulSi2z0",
        "outputId": "dad5bfde-025b-4dc1-8a7e-6f49fb670f94"
      },
      "source": [
        "data[\"age_in_days\"].plot.hist()"
      ],
      "execution_count": 83,
      "outputs": [
        {
          "output_type": "execute_result",
          "data": {
            "text/plain": [
              "<matplotlib.axes._subplots.AxesSubplot at 0x7fe28d271250>"
            ]
          },
          "metadata": {
            "tags": []
          },
          "execution_count": 83
        },
        {
          "output_type": "display_data",
          "data": {
            "image/png": "[encoded data removed]",
            "text/plain": [
              "<Figure size 432x288 with 1 Axes>"
            ]
          },
          "metadata": {
            "tags": [],
            "needs_background": "light"
          }
        }
      ]
    },
    {
      "cell_type": "code",
      "metadata": {
        "id": "MJtsttpQjDJN"
      },
      "source": [
        "bins = [0, 5475, 18250,33960]\n",
        "group = [\"Teenager\", \"Adult\", \"Old\"]"
      ],
      "execution_count": 84,
      "outputs": []
    },
    {
      "cell_type": "code",
      "metadata": {
        "id": "E3dQQOYLjxl4"
      },
      "source": [
        "data[\"Age Group\"] = pd.cut(data[\"age_in_days\"], bins, labels=group)"
      ],
      "execution_count": 85,
      "outputs": []
    },
    {
      "cell_type": "code",
      "metadata": {
        "colab": {
          "base_uri": "https://localhost:8080/"
        },
        "id": "bEZ0PtbQmem3",
        "outputId": "e8f5d381-ff9d-4ca7-9508-4297862c81a1"
      },
      "source": [
        "data[\"Age Group\"].value_counts()"
      ],
      "execution_count": 86,
      "outputs": [
        {
          "output_type": "execute_result",
          "data": {
            "text/plain": [
              "Old         43060\n",
              "Adult       36793\n",
              "Teenager        0\n",
              "Name: Age Group, dtype: int64"
            ]
          },
          "metadata": {
            "tags": []
          },
          "execution_count": 86
        }
      ]
    },
    {
      "cell_type": "code",
      "metadata": {
        "id": "c8-2Y3owmgVu"
      },
      "source": [
        "bins = [0, 100000, 468140]\n",
        "group = [\"Poor\", \"Rich\"]\n",
        "data[\"Fianancial Status\"] = pd.cut(data[\"Income\"], bins, labels=group)"
      ],
      "execution_count": 87,
      "outputs": []
    },
    {
      "cell_type": "code",
      "metadata": {
        "colab": {
          "base_uri": "https://localhost:8080/"
        },
        "id": "oEVbB3ASmrpi",
        "outputId": "fa0f4f60-54cd-4e48-f752-2af3c3a3c859"
      },
      "source": [
        "data[\"Fianancial Status\"].value_counts()"
      ],
      "execution_count": 88,
      "outputs": [
        {
          "output_type": "execute_result",
          "data": {
            "text/plain": [
              "Rich    62830\n",
              "Poor    17023\n",
              "Name: Fianancial Status, dtype: int64"
            ]
          },
          "metadata": {
            "tags": []
          },
          "execution_count": 88
        }
      ]
    },
    {
      "cell_type": "code",
      "metadata": {
        "colab": {
          "base_uri": "https://localhost:8080/",
          "height": 241
        },
        "id": "cts3ctEooHNq",
        "outputId": "77535230-992b-4918-a92f-86ae14038f99"
      },
      "source": [
        "data.head()"
      ],
      "execution_count": 89,
      "outputs": [
        {
          "output_type": "execute_result",
          "data": {
            "text/html": [
              "<div>\n",
              "<style scoped>\n",
              "    .dataframe tbody tr th:only-of-type {\n",
              "        vertical-align: middle;\n",
              "    }\n",
              "\n",
              "    .dataframe tbody tr th {\n",
              "        vertical-align: top;\n",
              "    }\n",
              "\n",
              "    .dataframe thead th {\n",
              "        text-align: right;\n",
              "    }\n",
              "</style>\n",
              "<table border=\"1\" class=\"dataframe\">\n",
              "  <thead>\n",
              "    <tr style=\"text-align: right;\">\n",
              "      <th></th>\n",
              "      <th>id</th>\n",
              "      <th>perc_premium_paid_by_cash_credit</th>\n",
              "      <th>age_in_days</th>\n",
              "      <th>Income</th>\n",
              "      <th>Count_3-6_months_late</th>\n",
              "      <th>Count_6-12_months_late</th>\n",
              "      <th>Count_more_than_12_months_late</th>\n",
              "      <th>application_underwriting_score</th>\n",
              "      <th>no_of_premiums_paid</th>\n",
              "      <th>sourcing_channel</th>\n",
              "      <th>residence_area_type</th>\n",
              "      <th>target</th>\n",
              "      <th>Age Group</th>\n",
              "      <th>Fianancial Status</th>\n",
              "    </tr>\n",
              "  </thead>\n",
              "  <tbody>\n",
              "    <tr>\n",
              "      <th>0</th>\n",
              "      <td>110936</td>\n",
              "      <td>0.429</td>\n",
              "      <td>12058.0</td>\n",
              "      <td>355060.0</td>\n",
              "      <td>0.0</td>\n",
              "      <td>0.0</td>\n",
              "      <td>0.0</td>\n",
              "      <td>99.02</td>\n",
              "      <td>13.0</td>\n",
              "      <td>C</td>\n",
              "      <td>Urban</td>\n",
              "      <td>1</td>\n",
              "      <td>Adult</td>\n",
              "      <td>Rich</td>\n",
              "    </tr>\n",
              "    <tr>\n",
              "      <th>1</th>\n",
              "      <td>41492</td>\n",
              "      <td>0.010</td>\n",
              "      <td>21546.0</td>\n",
              "      <td>315150.0</td>\n",
              "      <td>0.0</td>\n",
              "      <td>0.0</td>\n",
              "      <td>0.0</td>\n",
              "      <td>99.89</td>\n",
              "      <td>21.0</td>\n",
              "      <td>A</td>\n",
              "      <td>Urban</td>\n",
              "      <td>1</td>\n",
              "      <td>Old</td>\n",
              "      <td>Rich</td>\n",
              "    </tr>\n",
              "    <tr>\n",
              "      <th>2</th>\n",
              "      <td>31300</td>\n",
              "      <td>0.917</td>\n",
              "      <td>17531.0</td>\n",
              "      <td>84140.0</td>\n",
              "      <td>2.0</td>\n",
              "      <td>3.0</td>\n",
              "      <td>1.0</td>\n",
              "      <td>98.69</td>\n",
              "      <td>7.0</td>\n",
              "      <td>C</td>\n",
              "      <td>Rural</td>\n",
              "      <td>0</td>\n",
              "      <td>Adult</td>\n",
              "      <td>Poor</td>\n",
              "    </tr>\n",
              "    <tr>\n",
              "      <th>3</th>\n",
              "      <td>19415</td>\n",
              "      <td>0.049</td>\n",
              "      <td>15341.0</td>\n",
              "      <td>250510.0</td>\n",
              "      <td>0.0</td>\n",
              "      <td>0.0</td>\n",
              "      <td>0.0</td>\n",
              "      <td>99.57</td>\n",
              "      <td>9.0</td>\n",
              "      <td>A</td>\n",
              "      <td>Urban</td>\n",
              "      <td>1</td>\n",
              "      <td>Adult</td>\n",
              "      <td>Rich</td>\n",
              "    </tr>\n",
              "    <tr>\n",
              "      <th>4</th>\n",
              "      <td>99379</td>\n",
              "      <td>0.052</td>\n",
              "      <td>31400.0</td>\n",
              "      <td>198680.0</td>\n",
              "      <td>0.0</td>\n",
              "      <td>0.0</td>\n",
              "      <td>0.0</td>\n",
              "      <td>99.87</td>\n",
              "      <td>12.0</td>\n",
              "      <td>B</td>\n",
              "      <td>Urban</td>\n",
              "      <td>1</td>\n",
              "      <td>Old</td>\n",
              "      <td>Rich</td>\n",
              "    </tr>\n",
              "  </tbody>\n",
              "</table>\n",
              "</div>"
            ],
            "text/plain": [
              "       id  perc_premium_paid_by_cash_credit  ...  Age Group  Fianancial Status\n",
              "0  110936                             0.429  ...      Adult               Rich\n",
              "1   41492                             0.010  ...        Old               Rich\n",
              "2   31300                             0.917  ...      Adult               Poor\n",
              "3   19415                             0.049  ...      Adult               Rich\n",
              "4   99379                             0.052  ...        Old               Rich\n",
              "\n",
              "[5 rows x 14 columns]"
            ]
          },
          "metadata": {
            "tags": []
          },
          "execution_count": 89
        }
      ]
    },
    {
      "cell_type": "markdown",
      "metadata": {
        "id": "tmzenrULo89K"
      },
      "source": [
        "# Model Building"
      ]
    },
    {
      "cell_type": "markdown",
      "metadata": {
        "id": "ruAq_lB7piZ1"
      },
      "source": [
        "Since, we have a dependent variable, we will be using supervised learning models and also our dependent variable is categorical, therefore we will be using supervised learning classification models."
      ]
    },
    {
      "cell_type": "markdown",
      "metadata": {
        "id": "7Vkfe-K2i3E7"
      },
      "source": [
        "Let's read our test data set first."
      ]
    },
    {
      "cell_type": "code",
      "metadata": {
        "id": "oEpbtJhsoQGS"
      },
      "source": [
        "test = pd.read_csv(\"/content/drive/MyDrive/Colab Notebooks/Predicting-if-a-customer-will-default-for-their-next-premium/test.csv\")"
      ],
      "execution_count": 90,
      "outputs": []
    },
    {
      "cell_type": "code",
      "metadata": {
        "id": "ZZPujTYBlk4p"
      },
      "source": [
        "data = pd.get_dummies(data)"
      ],
      "execution_count": 91,
      "outputs": []
    },
    {
      "cell_type": "markdown",
      "metadata": {
        "id": "qwSdvewvja4S"
      },
      "source": [
        "Now, let's divide our data set as per the requirement. We will go on the top to import required modules."
      ]
    },
    {
      "cell_type": "code",
      "metadata": {
        "id": "15-D_jNUtEMu"
      },
      "source": [
        "train, test = train_test_split(data, test_size=0.2)"
      ],
      "execution_count": 92,
      "outputs": []
    },
    {
      "cell_type": "code",
      "metadata": {
        "id": "p7wIhT1NkNLe"
      },
      "source": [
        "x_train=train.drop('target',axis=1)\n",
        "y_train=train['target']\n",
        "x_test=test.drop('target',axis=1)\n",
        "y_test=test['target']"
      ],
      "execution_count": 93,
      "outputs": []
    },
    {
      "cell_type": "markdown",
      "metadata": {
        "id": "scg-3NL0l9-8"
      },
      "source": [
        "# KNN Model\n",
        "Let's go up and import KNN.\n",
        "We will be doing this for five different values of K i.e. 1, 2, 3, 4 and 5.\n"
      ]
    },
    {
      "cell_type": "code",
      "metadata": {
        "colab": {
          "base_uri": "https://localhost:8080/"
        },
        "id": "2u47kC7sHNh2",
        "outputId": "ce071e20-41cf-49d6-c384-7dc598737b06"
      },
      "source": [
        "knn = KNeighborsClassifier(n_neighbors=1)\n",
        "knn.fit(x_train, y_train)\n",
        "predictions = knn.predict(x_test)\n",
        "performance = metrics.accuracy_score(y_test, predictions)\n",
        "print(performance)"
      ],
      "execution_count": 94,
      "outputs": [
        {
          "output_type": "stream",
          "text": [
            "0.8787802892743097\n"
          ],
          "name": "stdout"
        }
      ]
    },
    {
      "cell_type": "markdown",
      "metadata": {
        "id": "K-DsYfgWV18u"
      },
      "source": [
        "## When K = 1, accuracy is about 88.6%"
      ]
    },
    {
      "cell_type": "code",
      "metadata": {
        "colab": {
          "base_uri": "https://localhost:8080/"
        },
        "id": "Aq5XrAqvVh7f",
        "outputId": "145022e1-2620-4820-9671-75e3e54ab223"
      },
      "source": [
        "knn = KNeighborsClassifier(n_neighbors=2)\n",
        "knn.fit(x_train, y_train)\n",
        "predictions = knn.predict(x_test)\n",
        "performance = metrics.accuracy_score(y_test, predictions)\n",
        "print(performance)"
      ],
      "execution_count": 95,
      "outputs": [
        {
          "output_type": "stream",
          "text": [
            "0.8312566526829879\n"
          ],
          "name": "stdout"
        }
      ]
    },
    {
      "cell_type": "markdown",
      "metadata": {
        "id": "_RRF4X42Wc4C"
      },
      "source": [
        "## When K = 2, accuracy is about 83.8 %.  So K = 1 is better option till now."
      ]
    },
    {
      "cell_type": "code",
      "metadata": {
        "colab": {
          "base_uri": "https://localhost:8080/"
        },
        "id": "I6zMwdRxWZYX",
        "outputId": "a8fa5eee-a2d3-482a-fd70-7d152cf6b1c3"
      },
      "source": [
        "knn = KNeighborsClassifier(n_neighbors=3)\n",
        "knn.fit(x_train, y_train)\n",
        "predictions = knn.predict(x_test)\n",
        "performance = metrics.accuracy_score(y_test, predictions)\n",
        "print(performance)"
      ],
      "execution_count": 96,
      "outputs": [
        {
          "output_type": "stream",
          "text": [
            "0.9241124538225534\n"
          ],
          "name": "stdout"
        }
      ]
    },
    {
      "cell_type": "markdown",
      "metadata": {
        "id": "b-aIiA5ZW7d5"
      },
      "source": [
        "## 92.7%. Not bad. "
      ]
    },
    {
      "cell_type": "code",
      "metadata": {
        "colab": {
          "base_uri": "https://localhost:8080/"
        },
        "id": "GRNURyW8Wy1Q",
        "outputId": "725adfb6-ec45-4a52-c62d-7adc7218346f"
      },
      "source": [
        "knn = KNeighborsClassifier(n_neighbors=4)\n",
        "knn.fit(x_train, y_train)\n",
        "predictions = knn.predict(x_test)\n",
        "performance = metrics.accuracy_score(y_test, predictions)\n",
        "print(performance)"
      ],
      "execution_count": 97,
      "outputs": [
        {
          "output_type": "stream",
          "text": [
            "0.9140316824243943\n"
          ],
          "name": "stdout"
        }
      ]
    },
    {
      "cell_type": "markdown",
      "metadata": {
        "id": "P35Oc1cjXDvs"
      },
      "source": [
        "## Good but we have had better."
      ]
    },
    {
      "cell_type": "code",
      "metadata": {
        "colab": {
          "base_uri": "https://localhost:8080/"
        },
        "id": "BpsvvZ81XCGx",
        "outputId": "b33f7032-4391-4017-c6bc-9c13bf4cc9b0"
      },
      "source": [
        "knn = KNeighborsClassifier(n_neighbors=5)\n",
        "knn.fit(x_train, y_train)\n",
        "predictions = knn.predict(x_test)\n",
        "performance = metrics.accuracy_score(y_test, predictions)\n",
        "print(performance)"
      ],
      "execution_count": 98,
      "outputs": [
        {
          "output_type": "stream",
          "text": [
            "0.9342558387076576\n"
          ],
          "name": "stdout"
        }
      ]
    },
    {
      "cell_type": "markdown",
      "metadata": {
        "id": "Jrfwl99IXK-r"
      },
      "source": [
        "K = 5 will be our final decision which helps our model get an accuracy of 93.5%."
      ]
    },
    {
      "cell_type": "markdown",
      "metadata": {
        "id": "VGfTVK-UN3zg"
      },
      "source": [
        "# Model Deployment"
      ]
    },
    {
      "cell_type": "code",
      "metadata": {
        "id": "PrtKQSSwZQ6u"
      },
      "source": [
        "import pickle\n",
        "filename = 'model.pkl'\n",
        "pickle.dump(logreg, open(filename, 'wb'))"
      ],
      "execution_count": 100,
      "outputs": []
    },
    {
      "cell_type": "code",
      "metadata": {
        "id": "0MNKfdDMPhzd"
      },
      "source": [
        ""
      ],
      "execution_count": 100,
      "outputs": []
    }
  ]
}